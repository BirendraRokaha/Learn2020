{
 "cells": [
  {
   "cell_type": "markdown",
   "metadata": {},
   "source": [
    "# Analysing and Visualising"
   ]
  },
  {
   "cell_type": "code",
   "execution_count": 1,
   "metadata": {},
   "outputs": [],
   "source": [
    "# Importing the required modules\n",
    "\n",
    "import pandas as pd\n",
    "from matplotlib import pyplot as plt"
   ]
  },
  {
   "cell_type": "code",
   "execution_count": 2,
   "metadata": {},
   "outputs": [],
   "source": [
    "# Reading the data \n",
    "\n",
    "df = pd.read_csv(\"survey_results_public.csv\")\n",
    "\n",
    "\n",
    "# Set the cloumns and row display size\n",
    "pd.set_option('display.max_columns',85)\n",
    "pd.set_option('display.max_rows', 15)"
   ]
  },
  {
   "cell_type": "code",
   "execution_count": null,
   "metadata": {
    "scrolled": true
   },
   "outputs": [],
   "source": [
    "df.head(15)"
   ]
  },
  {
   "cell_type": "code",
   "execution_count": 4,
   "metadata": {
    "scrolled": true
   },
   "outputs": [
    {
     "name": "stdout",
     "output_type": "stream",
     "text": [
      "Enter the min Salery: 100000\n",
      "Enter the language choise: C\n"
     ]
    },
    {
     "data": {
      "text/html": [
       "<div>\n",
       "<style scoped>\n",
       "    .dataframe tbody tr th:only-of-type {\n",
       "        vertical-align: middle;\n",
       "    }\n",
       "\n",
       "    .dataframe tbody tr th {\n",
       "        vertical-align: top;\n",
       "    }\n",
       "\n",
       "    .dataframe thead th {\n",
       "        text-align: right;\n",
       "    }\n",
       "</style>\n",
       "<table border=\"1\" class=\"dataframe\">\n",
       "  <thead>\n",
       "    <tr style=\"text-align: right;\">\n",
       "      <th></th>\n",
       "      <th>ConvertedComp</th>\n",
       "      <th>LanguageWorkedWith</th>\n",
       "    </tr>\n",
       "  </thead>\n",
       "  <tbody>\n",
       "    <tr>\n",
       "      <td>15</td>\n",
       "      <td>108576.0</td>\n",
       "      <td>Bash/Shell/PowerShell;HTML/CSS;Java;JavaScript...</td>\n",
       "    </tr>\n",
       "    <tr>\n",
       "      <td>17</td>\n",
       "      <td>1260000.0</td>\n",
       "      <td>Bash/Shell/PowerShell;HTML/CSS;Perl</td>\n",
       "    </tr>\n",
       "    <tr>\n",
       "      <td>40</td>\n",
       "      <td>106000.0</td>\n",
       "      <td>C;C#;Java;SQL</td>\n",
       "    </tr>\n",
       "    <tr>\n",
       "      <td>41</td>\n",
       "      <td>130000.0</td>\n",
       "      <td>Bash/Shell/PowerShell;C#;HTML/CSS;Java;JavaScr...</td>\n",
       "    </tr>\n",
       "    <tr>\n",
       "      <td>42</td>\n",
       "      <td>135000.0</td>\n",
       "      <td>Dart;HTML/CSS;Java;JavaScript;SQL</td>\n",
       "    </tr>\n",
       "    <tr>\n",
       "      <td>...</td>\n",
       "      <td>...</td>\n",
       "      <td>...</td>\n",
       "    </tr>\n",
       "    <tr>\n",
       "      <td>64005</td>\n",
       "      <td>260000.0</td>\n",
       "      <td>HTML/CSS;Java;JavaScript;Python;SQL</td>\n",
       "    </tr>\n",
       "    <tr>\n",
       "      <td>64013</td>\n",
       "      <td>200000.0</td>\n",
       "      <td>C;C#;C++;Dart;Go;HTML/CSS;Kotlin;Python;TypeSc...</td>\n",
       "    </tr>\n",
       "    <tr>\n",
       "      <td>64014</td>\n",
       "      <td>250000.0</td>\n",
       "      <td>Bash/Shell/PowerShell;C;C++;Go;Perl;Python;Ruby</td>\n",
       "    </tr>\n",
       "    <tr>\n",
       "      <td>64035</td>\n",
       "      <td>2000000.0</td>\n",
       "      <td>C#;HTML/CSS;JavaScript;Perl;Python;SQL;TypeScript</td>\n",
       "    </tr>\n",
       "    <tr>\n",
       "      <td>64057</td>\n",
       "      <td>2000000.0</td>\n",
       "      <td>Bash/Shell/PowerShell;HTML/CSS;Java;JavaScript...</td>\n",
       "    </tr>\n",
       "  </tbody>\n",
       "</table>\n",
       "<p>6247 rows × 2 columns</p>\n",
       "</div>"
      ],
      "text/plain": [
       "       ConvertedComp                                 LanguageWorkedWith\n",
       "15          108576.0  Bash/Shell/PowerShell;HTML/CSS;Java;JavaScript...\n",
       "17         1260000.0                Bash/Shell/PowerShell;HTML/CSS;Perl\n",
       "40          106000.0                                      C;C#;Java;SQL\n",
       "41          130000.0  Bash/Shell/PowerShell;C#;HTML/CSS;Java;JavaScr...\n",
       "42          135000.0                  Dart;HTML/CSS;Java;JavaScript;SQL\n",
       "...              ...                                                ...\n",
       "64005       260000.0                HTML/CSS;Java;JavaScript;Python;SQL\n",
       "64013       200000.0  C;C#;C++;Dart;Go;HTML/CSS;Kotlin;Python;TypeSc...\n",
       "64014       250000.0    Bash/Shell/PowerShell;C;C++;Go;Perl;Python;Ruby\n",
       "64035      2000000.0  C#;HTML/CSS;JavaScript;Perl;Python;SQL;TypeScript\n",
       "64057      2000000.0  Bash/Shell/PowerShell;HTML/CSS;Java;JavaScript...\n",
       "\n",
       "[6247 rows x 2 columns]"
      ]
     },
     "execution_count": 4,
     "metadata": {},
     "output_type": "execute_result"
    }
   ],
   "source": [
    "# Advanced filterring\n",
    "\n",
    "sal_low = int(input('Enter the min Salery: '))\n",
    "lang_cho = input('Enter the language choise: ')\n",
    "\n",
    "\n",
    "filt = ((df['ConvertedComp'] >= sal_low) & (df['LanguageWorkedWith'].str.contains(lang_cho,na =False))) \n",
    "\n",
    "df.loc[filt,['ConvertedComp','LanguageWorkedWith']]"
   ]
  },
  {
   "cell_type": "code",
   "execution_count": 5,
   "metadata": {},
   "outputs": [
    {
     "data": {
      "text/plain": [
       "Windows        2537\n",
       "MacOS          2283\n",
       "Linux-based    1336\n",
       "BSD               3\n",
       "Name: OpSys, dtype: int64"
      ]
     },
     "execution_count": 5,
     "metadata": {},
     "output_type": "execute_result"
    }
   ],
   "source": [
    "to_plot = df.loc[filt,'OpSys'].value_counts()\n",
    "to_plot"
   ]
  },
  {
   "cell_type": "code",
   "execution_count": 6,
   "metadata": {
    "scrolled": true
   },
   "outputs": [
    {
     "data": {
      "image/png": "[encoded data removed]",
      "text/plain": [
       "<Figure size 432x288 with 1 Axes>"
      ]
     },
     "metadata": {
      "needs_background": "light"
     },
     "output_type": "display_data"
    }
   ],
   "source": [
    "# Plotting a bar graph\n",
    "\n",
    "\n",
    "\n",
    "index = ['MacOS','Linux-based', 'Windows'] \n",
    "df_plt = pd.DataFrame(to_plot, index=index)\n",
    "ax = df_plt.plot.bar(rot=0)\n",
    "\n",
    "# labelling\n",
    "plt.title(\"Developers earning > 100K and using Python. OS of choise\")\n",
    "plt.xlabel(\"Operating Systems\")\n",
    "plt.ylabel(\"User No.\")\n",
    "\n",
    "plt.show()"
   ]
  },
  {
   "cell_type": "code",
   "execution_count": null,
   "metadata": {},
   "outputs": [],
   "source": [
    "\n",
    "\n",
    "# Advanced filterring\n",
    "\n",
    "\n",
    "def sal_lang_plot(sal_low,lang_cho1,lang_cho2):\n",
    "    filt1 = ((df['ConvertedComp'] >= sal_low) & (df['LanguageWorkedWith'].str.contains(lang_cho1,na =False)))\n",
    "    filt2 = ((df['ConvertedComp'] >= sal_low) & (df['LanguageWorkedWith'].str.contains(lang_cho2,na =False)))\n",
    "\n",
    "    # df.loc[filt,['ConvertedComp','LanguageWorkedWith']]\n",
    "\n",
    "    # Get the plot values ready\n",
    "    to_plot1 = df.loc[filt1,'OpSys'].value_counts()\n",
    "    to_plot2 = df.loc[filt2,'OpSys'].value_counts()\n",
    "\n",
    "    # Plotting a bar graph\n",
    "\n",
    "\n",
    "\n",
    "    index = ['MacOS','Linux-based', 'Windows'] \n",
    "    df_plt = pd.DataFrame({'to_plot1': to_plot1,\n",
    "                   'to_plot2': to_plot2}, index=index)\n",
    "    ax = df_plt.plot.bar()\n",
    "\n",
    "    # labelling\n",
    "    plt.title(f\"Developers earning > {sal_low} and using {lang_cho1} and {lang_cho2} OS of choice\")\n",
    "    plt.xlabel(\"Operating Systems\")\n",
    "    plt.ylabel(\"User No.\")\n",
    "    plt.legend([lang_cho1,lang_cho2])\n",
    "\n",
    "    plt.show()\n",
    "    \n",
    "\n",
    "\n",
    "# User Input\n",
    "\n",
    "sal_low = int(input('Enter the min Salery: '))\n",
    "lang_cho1 = input('Enter the language choice: ')\n",
    "lang_cho2 = input('Enter the language choice: ')\n",
    "sal_lang_plot(sal_low,lang_cho1,lang_cho2)\n",
    "\n"
   ]
  },
  {
   "cell_type": "code",
   "execution_count": null,
   "metadata": {},
   "outputs": [],
   "source": []
  }
 ],
 "metadata": {
  "kernelspec": {
   "display_name": "Python 3",
   "language": "python",
   "name": "python3"
  },
  "language_info": {
   "codemirror_mode": {
    "name": "ipython",
    "version": 3
   },
   "file_extension": ".py",
   "mimetype": "text/x-python",
   "name": "python",
   "nbconvert_exporter": "python",
   "pygments_lexer": "ipython3",
   "version": "3.7.4"
  }
 },
 "nbformat": 4,
 "nbformat_minor": 2
}
