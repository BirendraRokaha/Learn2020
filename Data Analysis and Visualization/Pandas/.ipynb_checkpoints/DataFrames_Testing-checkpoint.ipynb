{
 "cells": [
  {
   "cell_type": "markdown",
   "metadata": {},
   "source": [
    "## What are dataframes \n",
    "\n",
    "* How dataframes are created explanation using dictionaries"
   ]
  },
  {
   "cell_type": "code",
   "execution_count": null,
   "metadata": {},
   "outputs": [],
   "source": [
    "import pandas as pd"
   ]
  },
  {
   "cell_type": "code",
   "execution_count": null,
   "metadata": {},
   "outputs": [],
   "source": [
    "# Basic python dictionary\n",
    "dogs = {\n",
    "    'name':['Goldy','Snow','Jack','Tomm','Hero','Zed','Ozzy'],\n",
    "    'breed':['Retriver','Huskey','Shepard','Symoid','Labrador','Dalmation','Shepard'],\n",
    "    'color':['Golden','White/Black','Brown','White','Black','White/Black','Brown'],\n",
    "    'age':[6,7,12,2,6,10,3],\n",
    "    'owner_email':['goldy1@email.com','snow1@email.com','jack1@email.com','tomm1@email.com','hero1@email.com','zed1@email.com','ozzy1@gmail.com']\n",
    "} "
   ]
  },
  {
   "cell_type": "code",
   "execution_count": null,
   "metadata": {},
   "outputs": [],
   "source": [
    "dogs"
   ]
  },
  {
   "cell_type": "code",
   "execution_count": null,
   "metadata": {
    "scrolled": true
   },
   "outputs": [],
   "source": [
    "dogs['owner_email'][3]"
   ]
  },
  {
   "cell_type": "markdown",
   "metadata": {},
   "source": [
    "#### Converting a Dict to a  pandas DataFrame"
   ]
  },
  {
   "cell_type": "code",
   "execution_count": null,
   "metadata": {
    "scrolled": true
   },
   "outputs": [],
   "source": [
    "# Convert dict to a DF\n",
    "df = pd.DataFrame(dogs)\n",
    "df"
   ]
  },
  {
   "cell_type": "markdown",
   "metadata": {},
   "source": [
    "* A pandas series is basically a table column\n",
    "* A Dataframe is a collection of multiple series"
   ]
  },
  {
   "cell_type": "code",
   "execution_count": null,
   "metadata": {
    "scrolled": false
   },
   "outputs": [],
   "source": [
    "# Types\n",
    "print(type(df))\n",
    "\n",
    "print(type(df['name']))"
   ]
  },
  {
   "cell_type": "code",
   "execution_count": null,
   "metadata": {},
   "outputs": [],
   "source": [
    "# Get info about the dataframe\n",
    "df.info()"
   ]
  },
  {
   "cell_type": "markdown",
   "metadata": {},
   "source": [
    "#### Accessing specific values in a Data Frame"
   ]
  },
  {
   "cell_type": "code",
   "execution_count": null,
   "metadata": {
    "scrolled": true
   },
   "outputs": [],
   "source": [
    "# Accessing values of a column\n",
    "\n",
    "# Both methods work but top method is recommended\n",
    "# Sometimes column name may be same as pandas attribute\n",
    "# this may result in errors\n",
    "\n",
    "df['breed']\n",
    "\n",
    "# df.breed\n"
   ]
  },
  {
   "cell_type": "code",
   "execution_count": null,
   "metadata": {
    "scrolled": true
   },
   "outputs": [],
   "source": [
    "# Accessing multiple columns\n",
    "\n",
    "# use double square brackets\n",
    "# use a list of column names\n",
    "\n",
    "df[['breed','color']]\n"
   ]
  },
  {
   "cell_type": "code",
   "execution_count": null,
   "metadata": {
    "scrolled": true
   },
   "outputs": [],
   "source": [
    "# Get all columns and details\n",
    "df.columns"
   ]
  },
  {
   "cell_type": "code",
   "execution_count": null,
   "metadata": {
    "scrolled": true
   },
   "outputs": [],
   "source": [
    "# Accessing Rows\n",
    "\n",
    "# iloc = int location\n",
    "\n",
    "# syntax\n",
    "# {df_name}.iloc[index]\n",
    "df.iloc[0]"
   ]
  },
  {
   "cell_type": "code",
   "execution_count": null,
   "metadata": {
    "scrolled": true
   },
   "outputs": [],
   "source": [
    "# multiple rows using iloc \n",
    "df.iloc[[2,4]]"
   ]
  },
  {
   "cell_type": "code",
   "execution_count": null,
   "metadata": {},
   "outputs": [],
   "source": [
    "# Get multiple rows and column\n",
    "\n",
    "# {dataframe_name}.iloc[[row_index],[column_index]]\n",
    "df.iloc[[0,2,1],[2,0,4]]"
   ]
  },
  {
   "cell_type": "code",
   "execution_count": null,
   "metadata": {},
   "outputs": [],
   "source": [
    "# Accessing rows with loc\n",
    "# label location\n",
    "\n",
    "df.loc[1]"
   ]
  },
  {
   "cell_type": "code",
   "execution_count": null,
   "metadata": {},
   "outputs": [],
   "source": [
    "\n",
    "df.loc[[3,2,1,0],['name','breed']]\n",
    "\n",
    "# Thiese two are same\n",
    "\n",
    "# df.iloc[[3,2,1,0],[0,1]]"
   ]
  },
  {
   "cell_type": "markdown",
   "metadata": {},
   "source": [
    "## Index \n",
    "* Indexing in pandas"
   ]
  },
  {
   "cell_type": "code",
   "execution_count": null,
   "metadata": {},
   "outputs": [],
   "source": [
    "df"
   ]
  },
  {
   "cell_type": "code",
   "execution_count": null,
   "metadata": {},
   "outputs": [],
   "source": [
    "# set up temporary index\n",
    "df.set_index('owner_email')"
   ]
  },
  {
   "cell_type": "code",
   "execution_count": null,
   "metadata": {},
   "outputs": [],
   "source": [
    "df"
   ]
  },
  {
   "cell_type": "code",
   "execution_count": null,
   "metadata": {},
   "outputs": [],
   "source": [
    "# permenent\n",
    "df.set_index('owner_email', inplace=True)\n",
    "df"
   ]
  },
  {
   "cell_type": "code",
   "execution_count": null,
   "metadata": {
    "scrolled": true
   },
   "outputs": [],
   "source": [
    "df.index"
   ]
  },
  {
   "cell_type": "code",
   "execution_count": null,
   "metadata": {
    "scrolled": true
   },
   "outputs": [],
   "source": [
    "df.loc[['jack1@email.com','hero1@email.com'],['breed','color']]"
   ]
  },
  {
   "cell_type": "code",
   "execution_count": null,
   "metadata": {
    "scrolled": true
   },
   "outputs": [],
   "source": [
    "# Reset index\n",
    "df.reset_index(inplace=True)\n",
    "df"
   ]
  },
  {
   "cell_type": "markdown",
   "metadata": {},
   "source": [
    "### Using conditionals to filter rows and columns"
   ]
  },
  {
   "cell_type": "code",
   "execution_count": null,
   "metadata": {},
   "outputs": [],
   "source": [
    "# Used Data Frame \n",
    "df"
   ]
  },
  {
   "cell_type": "code",
   "execution_count": null,
   "metadata": {},
   "outputs": [],
   "source": [
    "# using conditionals example\n",
    "# Filter mask\n",
    "get_breed = (df['breed'] == 'Shepard')\n",
    "# mask\n",
    "get_breed"
   ]
  },
  {
   "cell_type": "code",
   "execution_count": null,
   "metadata": {},
   "outputs": [],
   "source": [
    "df['age'] > 6"
   ]
  },
  {
   "cell_type": "code",
   "execution_count": null,
   "metadata": {},
   "outputs": [],
   "source": [
    "# get values of that filter mask\n",
    "\n",
    "df[get_breed]\n",
    "\n",
    "# This also work\n",
    "\n",
    "# df[df['color'] == 'Brown']"
   ]
  },
  {
   "cell_type": "code",
   "execution_count": null,
   "metadata": {
    "scrolled": true
   },
   "outputs": [],
   "source": [
    "# Better way\n",
    "\n",
    "df.loc[get_breed, ['owner_email','name','breed']]"
   ]
  },
  {
   "cell_type": "code",
   "execution_count": null,
   "metadata": {},
   "outputs": [],
   "source": [
    "#  & == AND\n",
    "#  | == OR\n",
    "# ~ == NOT"
   ]
  },
  {
   "cell_type": "code",
   "execution_count": null,
   "metadata": {
    "scrolled": true
   },
   "outputs": [],
   "source": [
    "get_req = ((df['breed'] == 'Shepard') & (df['name'] == 'Jack'))\n",
    "\n",
    "# df[get_req]\n",
    "df.loc[~get_req]"
   ]
  },
  {
   "cell_type": "code",
   "execution_count": null,
   "metadata": {
    "scrolled": true
   },
   "outputs": [],
   "source": [
    "get_req = (df['breed'] == 'Shepard')\n",
    "\n",
    "# df[get_req]\n",
    "\n",
    "# \n",
    "df.loc[~get_req]"
   ]
  },
  {
   "cell_type": "markdown",
   "metadata": {},
   "source": [
    "#### Updating specific rows and columns\n"
   ]
  },
  {
   "cell_type": "code",
   "execution_count": null,
   "metadata": {},
   "outputs": [],
   "source": [
    "# Convert dict to a DF\n",
    "df = pd.DataFrame(dogs)"
   ]
  },
  {
   "cell_type": "markdown",
   "metadata": {},
   "source": [
    "* Updating column values\n"
   ]
  },
  {
   "cell_type": "code",
   "execution_count": null,
   "metadata": {},
   "outputs": [],
   "source": [
    "# Changing column names\n",
    "\n",
    "df.columns\n",
    "df.columns = ['dog_name', 'breed', 'fur_color', 'age', 'owner_email']\n",
    "df"
   ]
  },
  {
   "cell_type": "code",
   "execution_count": null,
   "metadata": {
    "scrolled": false
   },
   "outputs": [],
   "source": [
    "# Changing the column names\n",
    "\n",
    "# Making all uppercase/lower\n",
    "# df.columns = [x.upper() for x in df.columns]\n",
    "df.columns = [x.lower() for x in df.columns]\n",
    "\n",
    "# replacing space with _\n",
    "# df.columns = df.columns.str.replace(' ','_')\n",
    "\n",
    "df.columns\n"
   ]
  },
  {
   "cell_type": "code",
   "execution_count": null,
   "metadata": {
    "scrolled": true
   },
   "outputs": [],
   "source": [
    "# Changing only specific values\n",
    "\n",
    "# Pass as dict\n",
    "df.rename(columns={'name':'dog_name','color':'fur_color'}, inplace=True)\n",
    "\n",
    "df"
   ]
  },
  {
   "cell_type": "code",
   "execution_count": null,
   "metadata": {
    "scrolled": true
   },
   "outputs": [],
   "source": [
    "df"
   ]
  },
  {
   "cell_type": "markdown",
   "metadata": {},
   "source": [
    "#### Updating Row values"
   ]
  },
  {
   "cell_type": "markdown",
   "metadata": {},
   "source": [
    "* Single row changes"
   ]
  },
  {
   "cell_type": "code",
   "execution_count": null,
   "metadata": {},
   "outputs": [],
   "source": [
    "df"
   ]
  },
  {
   "cell_type": "code",
   "execution_count": null,
   "metadata": {},
   "outputs": [],
   "source": [
    "# Select the required value and replace it \n",
    "\n",
    "# for 1 item\n",
    "\n",
    "df.loc[2,'age'] = 9\n",
    "\n",
    "\n",
    "# for multiple items\n",
    "\n",
    "df.loc[0:2,'age'] = [3,7,1]"
   ]
  },
  {
   "cell_type": "code",
   "execution_count": null,
   "metadata": {},
   "outputs": [],
   "source": [
    "# Multiple string values\n",
    "df.loc[3,['dog_name','owner_email']] = ['Link','link1@email.com']\n",
    "\n",
    "# same results\n",
    "# df.at[3,['name','owner_email']] = ['Link','link1@email.com']\n",
    "\n"
   ]
  },
  {
   "cell_type": "code",
   "execution_count": null,
   "metadata": {},
   "outputs": [],
   "source": [
    "df"
   ]
  },
  {
   "cell_type": "code",
   "execution_count": null,
   "metadata": {
    "scrolled": true
   },
   "outputs": [],
   "source": [
    "# Changing values using conditionals\n",
    "\n",
    "test = (df['owner_email'] == 'ron1@email.com')\n",
    "df.loc[test,['dog_name','owner_email']] = ['Momo','momo1@email.com']\n",
    "\n",
    "\n",
    "# test = (df['dog_name'] == 'Momo')\n",
    "# df.loc[test,'dog_name'] = 'Dogo'\n",
    "\n",
    "\n",
    "# test = (df['dog_name'] == 'Momo')\n",
    "# df.loc[test,'owner_email'] = 'dogo1@email.com'\n",
    "\n",
    "# df"
   ]
  },
  {
   "cell_type": "code",
   "execution_count": null,
   "metadata": {},
   "outputs": [],
   "source": [
    "df"
   ]
  },
  {
   "cell_type": "markdown",
   "metadata": {},
   "source": [
    "* Changing values of multiple rows"
   ]
  },
  {
   "cell_type": "code",
   "execution_count": null,
   "metadata": {
    "scrolled": true
   },
   "outputs": [],
   "source": [
    "# Changing values in multiple rows\n",
    "\n",
    "df['owner_email'] = df['owner_email'].str.upper()\n",
    "df['owner_email'] = df['owner_email'].str.lower()\n",
    "\n",
    "df"
   ]
  },
  {
   "cell_type": "markdown",
   "metadata": {},
   "source": [
    "### 4 methods for updating data in pandas\n",
    "\n",
    "* apply\n",
    "* map\n",
    "* applymap\n",
    "* replace"
   ]
  },
  {
   "cell_type": "markdown",
   "metadata": {},
   "source": [
    "#### apply"
   ]
  },
  {
   "cell_type": "code",
   "execution_count": null,
   "metadata": {
    "scrolled": true
   },
   "outputs": [],
   "source": [
    "# Check len of all elements in a column\n",
    "\n",
    "# pass func without ()\n",
    "\n",
    "df['breed'].apply(len) "
   ]
  },
  {
   "cell_type": "code",
   "execution_count": null,
   "metadata": {
    "scrolled": false
   },
   "outputs": [],
   "source": [
    "# simple use of apply\n",
    "# a func that changes the case of string\n",
    "\n",
    "\n",
    "def update_str(breed):\n",
    "    return breed.upper()\n",
    "\n",
    "# Dont execute the func\n",
    "df['breed'].apply(update_str)\n",
    "\n",
    "# to assign the value perm.\n",
    "# df['breed'] = df['breed'].apply(update_str)\n",
    "\n",
    "# Use lambda for better code if fuc is simple\n",
    "\n",
    "df['breed'] = df['breed'].apply(lambda x: x.lower())\n",
    "\n",
    "df['breed']"
   ]
  },
  {
   "cell_type": "code",
   "execution_count": null,
   "metadata": {
    "scrolled": true
   },
   "outputs": [],
   "source": [
    "# simple use of apply\n",
    "# a func that adds 1 year to age\n",
    "\n",
    "\n",
    "# def update_age(age):\n",
    "#     return age+1\n",
    "\n",
    "\n",
    "# Dont execute the func just pass it\n",
    "\n",
    "# df['age'].apply(update_age)\n",
    "\n",
    "\n",
    "\n",
    "# to change the value just assign it\n",
    "\n",
    "# df['age'] = df['age'].apply(update_age)\n",
    "\n",
    "\n",
    "# Use lambda for better code if fuc is simple\n",
    "\n",
    "df['age'].apply(lambda x: x+1)"
   ]
  },
  {
   "cell_type": "code",
   "execution_count": null,
   "metadata": {},
   "outputs": [],
   "source": [
    "df"
   ]
  },
  {
   "cell_type": "code",
   "execution_count": null,
   "metadata": {},
   "outputs": [],
   "source": [
    "# this applies to only the head of the columns\n",
    "df.apply(len)"
   ]
  },
  {
   "cell_type": "code",
   "execution_count": null,
   "metadata": {
    "scrolled": true
   },
   "outputs": [],
   "source": [
    "# this returns min form all series\n",
    "df.apply(pd.Series.min)"
   ]
  },
  {
   "cell_type": "code",
   "execution_count": null,
   "metadata": {
    "scrolled": true
   },
   "outputs": [],
   "source": [
    "# this applies to only the value given value \n",
    "# replaces all the ones not given to NaN\n",
    "\n",
    "# df['breed'].map({'retriver':'golden_retriver'})\n",
    "\n",
    "\n",
    "\n",
    "df['breed'] = df['breed'].replace({'retriver':'golden_retriver'})"
   ]
  },
  {
   "cell_type": "code",
   "execution_count": null,
   "metadata": {
    "scrolled": true
   },
   "outputs": [],
   "source": [
    "# max and min in a column\n",
    "\n",
    "# df['age'].min()\n",
    "\n",
    "df['age'].max()\n"
   ]
  },
  {
   "cell_type": "markdown",
   "metadata": {},
   "source": [
    "### Add and remove columns and rows "
   ]
  },
  {
   "cell_type": "code",
   "execution_count": null,
   "metadata": {
    "scrolled": true
   },
   "outputs": [],
   "source": [
    "# Dataframe working on \n",
    "df = pd.DataFrame(dogs)\n",
    "df"
   ]
  },
  {
   "cell_type": "code",
   "execution_count": null,
   "metadata": {
    "scrolled": true
   },
   "outputs": [],
   "source": [
    "# example of addng a new colun\n",
    "\n",
    "# making a new series by joining two series\n",
    "df['name'] + ' ' + df['breed']\n",
    "\n",
    "df['dog_name_breed'] = df['name'] + ' ' + df['breed']\n",
    "\n",
    "df"
   ]
  },
  {
   "cell_type": "code",
   "execution_count": null,
   "metadata": {
    "scrolled": true
   },
   "outputs": [],
   "source": [
    "# deleting a column\n",
    "df.drop(columns='dog_name_breed',inplace=True)"
   ]
  },
  {
   "cell_type": "code",
   "execution_count": null,
   "metadata": {},
   "outputs": [],
   "source": [
    "# split a df column series into 2 columns\n",
    "\n",
    "# split one into to by space\n",
    "# makes t col named 0 and 1\n",
    "# df['to_expand'].str.split(' ',expand=True)\n",
    "\n",
    "\n",
    "# rename the col to 1col and 2col and assign to org df\n",
    "# df[['1col','2col']] = df['to_expand'].str.split(' ',expand=True)"
   ]
  },
  {
   "cell_type": "markdown",
   "metadata": {},
   "source": [
    "* Add rows to a DataFrame "
   ]
  },
  {
   "cell_type": "code",
   "execution_count": null,
   "metadata": {
    "scrolled": true
   },
   "outputs": [],
   "source": [
    "# using append\n",
    "\n",
    "# this gives an error\n",
    "# df.append({'name':'Kalay'})\n",
    "# pass ignore_index=True\n",
    "# temp\n",
    "df.append({'name':'Kalay'},ignore_index=True)\n",
    "\n",
    "# add a whole row\n",
    "df = df.append({'name':'Tonka', 'breed':'Symoid', 'color':'White','age':3, 'owner_email':'tonka1@email.com'},ignore_index=True)"
   ]
  },
  {
   "cell_type": "code",
   "execution_count": null,
   "metadata": {},
   "outputs": [],
   "source": [
    "# join 2 df\n",
    "\n",
    "# Temp changes\n",
    "# df1.append(df2, ignore_index=True)\n",
    "\n",
    "# To get rid of the warning \n",
    "# df1.append(df2, ignore_index=True, sort = False)\n",
    "\n",
    "\n",
    "# Perm changes\n",
    "# df1 = df1.append(df2, ignore_index=True, sort = False)\n",
    "\n",
    "# Better way of doing the same thing\n",
    "# pd.concat([df1,df2], ignore_index=True)\n",
    "\n"
   ]
  },
  {
   "cell_type": "code",
   "execution_count": null,
   "metadata": {},
   "outputs": [],
   "source": [
    "df"
   ]
  },
  {
   "cell_type": "code",
   "execution_count": null,
   "metadata": {
    "scrolled": false
   },
   "outputs": [],
   "source": [
    "# dropping a row using filter to get index\n",
    "\n",
    "\n",
    "filt = (df['name'] == 'Tonka')\n",
    "# df.loc[filt]\n",
    "\n",
    "df.drop(index = df[filt].index,inplace = True)"
   ]
  },
  {
   "cell_type": "code",
   "execution_count": null,
   "metadata": {
    "scrolled": true
   },
   "outputs": [],
   "source": [
    "df"
   ]
  },
  {
   "cell_type": "markdown",
   "metadata": {},
   "source": [
    "### Sorting data"
   ]
  },
  {
   "cell_type": "code",
   "execution_count": null,
   "metadata": {
    "scrolled": true
   },
   "outputs": [],
   "source": [
    "# Working Dataframe\n",
    "df = pd.DataFrame(dogs)\n",
    "\n",
    "# add a new row\n",
    "df = df.append({'name':'Tonka', 'breed':'Symoid', 'color':'White','age':3, 'owner_email':'tonka1@email.com'},ignore_index=True)\n",
    "\n",
    "df"
   ]
  },
  {
   "cell_type": "code",
   "execution_count": null,
   "metadata": {
    "scrolled": true
   },
   "outputs": [],
   "source": [
    "# Normal sort\n",
    "\n",
    "# Ascending order\n",
    "df.sort_values(by='age')\n",
    "\n",
    "# Descending order\n",
    "df.sort_values(by='age',ascending=False)"
   ]
  },
  {
   "cell_type": "code",
   "execution_count": null,
   "metadata": {
    "scrolled": true
   },
   "outputs": [],
   "source": [
    "# Multiple columns\n",
    "\n",
    "\n",
    "# Sort by breed first and then name \n",
    "df.sort_values(by=['breed','name'])\n",
    "\n",
    "# Multiple sort args\n",
    "# df.sort_values(by=['breed','name'],ascending=[True,False])"
   ]
  },
  {
   "cell_type": "code",
   "execution_count": null,
   "metadata": {
    "scrolled": true
   },
   "outputs": [],
   "source": [
    "# Make changes permenant\n",
    "\n",
    "# Sort by breed first and then name \n",
    "df.sort_values(by=['breed','name'], inplace=True)\n",
    "df\n",
    "\n",
    "# reverse changes\n",
    "df.sort_index()"
   ]
  },
  {
   "cell_type": "code",
   "execution_count": null,
   "metadata": {
    "scrolled": true
   },
   "outputs": [],
   "source": [
    "# Another way \n",
    "\n",
    "# single\n",
    "df['name'].sort_values()\n",
    "\n",
    "\n",
    "# multiple\n",
    "# df[['breed','name']].sort_values(by='breed')"
   ]
  },
  {
   "cell_type": "code",
   "execution_count": null,
   "metadata": {},
   "outputs": [],
   "source": []
  }
 ],
 "metadata": {
  "kernelspec": {
   "display_name": "Python 3",
   "language": "python",
   "name": "python3"
  },
  "language_info": {
   "codemirror_mode": {
    "name": "ipython",
    "version": 3
   },
   "file_extension": ".py",
   "mimetype": "text/x-python",
   "name": "python",
   "nbconvert_exporter": "python",
   "pygments_lexer": "ipython3",
   "version": "3.7.4"
  }
 },
 "nbformat": 4,
 "nbformat_minor": 2
}
