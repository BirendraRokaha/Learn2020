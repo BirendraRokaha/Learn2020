{
 "cells": [
  {
   "cell_type": "markdown",
   "metadata": {},
   "source": [
    "## numpy cheatsheet"
   ]
  },
  {
   "cell_type": "markdown",
   "metadata": {},
   "source": [
    "### Fundamentals of numpy array"
   ]
  },
  {
   "cell_type": "code",
   "execution_count": 74,
   "metadata": {},
   "outputs": [],
   "source": [
    "import numpy as np\n",
    "\n",
    "# horizantal line\n",
    "def br():\n",
    "    print(\"\")"
   ]
  },
  {
   "cell_type": "code",
   "execution_count": 38,
   "metadata": {
    "scrolled": true
   },
   "outputs": [
    {
     "name": "stdout",
     "output_type": "stream",
     "text": [
      "[2 3 4 5]\n",
      "\n",
      "[[ 3  5  1  5]\n",
      " [12  5 64 42]]\n"
     ]
    }
   ],
   "source": [
    "# Basic 1D array\n",
    "# default datatype will be int32\n",
    "arr1 = np.array([2,3,4,5], dtype ='int16')\n",
    "print(arr1)\n",
    "\n",
    "br()\n",
    "\n",
    "# Basic 2D array\n",
    "arr2 = np.array([[3,5,1,5],[12,5,64,42]])\n",
    "print(arr2)"
   ]
  },
  {
   "cell_type": "code",
   "execution_count": 26,
   "metadata": {
    "scrolled": true
   },
   "outputs": [
    {
     "name": "stdout",
     "output_type": "stream",
     "text": [
      "2\n",
      "\n",
      "(2, 4)\n",
      "\n",
      "int32\n"
     ]
    }
   ],
   "source": [
    "# Get Dimention\n",
    "print(arr2.ndim)\n",
    "\n",
    "br()\n",
    "\n",
    "# Get Shape\n",
    "print(arr2.shape)\n",
    "\n",
    "br()\n",
    "\n",
    "# Get type\n",
    "print(arr1.dtype)"
   ]
  },
  {
   "cell_type": "code",
   "execution_count": 41,
   "metadata": {
    "scrolled": true
   },
   "outputs": [
    {
     "name": "stdout",
     "output_type": "stream",
     "text": [
      "2\n",
      "4\n",
      "\n",
      "8\n",
      "32\n"
     ]
    }
   ],
   "source": [
    "# Get size\n",
    "# item size\n",
    "print(arr1.itemsize)\n",
    "print(arr2.itemsize)\n",
    "\n",
    "br()\n",
    "\n",
    "# get total size\n",
    "print(arr1.itemsize * arr1.size)\n",
    "print(arr2.nbytes)"
   ]
  },
  {
   "cell_type": "markdown",
   "metadata": {},
   "source": [
    "### Data manipulation "
   ]
  },
  {
   "cell_type": "code",
   "execution_count": 49,
   "metadata": {
    "scrolled": true
   },
   "outputs": [
    {
     "name": "stdout",
     "output_type": "stream",
     "text": [
      "6\n",
      "5\n",
      "\n",
      "[2 4 6 7 9 7]\n",
      "[7 9]\n"
     ]
    }
   ],
   "source": [
    "arr1 = np.array([[2,4,6,7,9,7],[1,4,0,9,5,6]])\n",
    "\n",
    "# Getting a specific item arr[row:column]\n",
    "print(arr1[0,2])\n",
    "print(arr1[-1,-2])\n",
    "\n",
    "br()\n",
    "\n",
    "# Getting only row or column\n",
    "print(arr1[0, :])\n",
    "print(arr1[: , 3])\n"
   ]
  },
  {
   "cell_type": "code",
   "execution_count": 67,
   "metadata": {
    "scrolled": false
   },
   "outputs": [
    {
     "name": "stdout",
     "output_type": "stream",
     "text": [
      "[4 9]\n",
      "[[6 5 9 0 4 1]\n",
      " [7 9 7 6 4 2]]\n"
     ]
    }
   ],
   "source": [
    "# slicing [start:end:step]\n",
    "print(arr1[1, 1:-2:2])\n",
    "print(arr1[::-1, ::-1])"
   ]
  },
  {
   "cell_type": "code",
   "execution_count": 75,
   "metadata": {
    "scrolled": true
   },
   "outputs": [
    {
     "name": "stdout",
     "output_type": "stream",
     "text": [
      "[[ 9  8  6 11  9  7]\n",
      " [ 1  4 22 33  5  6]]\n",
      "\n",
      "[[ 9  8  6 11  9  7]\n",
      " [ 1  4 22 33  5  6]]\n"
     ]
    }
   ],
   "source": [
    "# changing element\n",
    "arr1[1,2] = 22\n",
    "print(arr1)\n",
    "\n",
    "br()\n",
    "\n",
    "# changing list of elements\n",
    "arr1[0, :2:] = [9,8]\n",
    "arr1[:, 3] = [11,33]\n",
    "print(arr1)"
   ]
  },
  {
   "cell_type": "code",
   "execution_count": 130,
   "metadata": {
    "scrolled": true
   },
   "outputs": [
    {
     "name": "stdout",
     "output_type": "stream",
     "text": [
      "[[[1 2]\n",
      "  [3 4]]\n",
      "\n",
      " [[5 6]\n",
      "  [7 8]]]\n",
      "\n",
      "7\n",
      "\n",
      "[[[1 2]\n",
      "  [3 4]]\n",
      "\n",
      " [[5 9]\n",
      "  [7 9]]]\n",
      "\n"
     ]
    }
   ],
   "source": [
    "# 3d narray\n",
    "arr2 = np.array([[[1,2],[3,4]],[[5,6],[7,8]]])\n",
    "print(arr2)\n",
    "\n",
    "br()\n",
    "\n",
    "# get spicific element\n",
    "print(arr2[1,1,0])\n",
    "\n",
    "br()\n",
    "\n",
    "# replace\n",
    "arr2[1,:,1] = [9,9]\n",
    "print(arr2)\n",
    "br()"
   ]
  },
  {
   "cell_type": "code",
   "execution_count": null,
   "metadata": {},
   "outputs": [],
   "source": []
  },
  {
   "cell_type": "code",
   "execution_count": 129,
   "metadata": {},
   "outputs": [
    {
     "name": "stdout",
     "output_type": "stream",
     "text": [
      "[[2 4]\n",
      " [9 9]]\n",
      "\n",
      "[[1 2]\n",
      " [4 5]]\n",
      "\n",
      "[2 5]\n"
     ]
    }
   ],
   "source": []
  },
  {
   "cell_type": "code",
   "execution_count": null,
   "metadata": {},
   "outputs": [],
   "source": [
    "# random tests\n",
    "print(arr2[:,:,1])\n",
    "\n",
    "br()\n",
    "\n",
    "arr = np.array([[1,2],[4,5]])\n",
    "print(arr)\n",
    "\n",
    "br()\n",
    "\n",
    "print(arr[:,1])"
   ]
  }
 ],
 "metadata": {
  "kernelspec": {
   "display_name": "Python 3",
   "language": "python",
   "name": "python3"
  },
  "language_info": {
   "codemirror_mode": {
    "name": "ipython",
    "version": 3
   },
   "file_extension": ".py",
   "mimetype": "text/x-python",
   "name": "python",
   "nbconvert_exporter": "python",
   "pygments_lexer": "ipython3",
   "version": "3.7.4"
  }
 },
 "nbformat": 4,
 "nbformat_minor": 2
}
