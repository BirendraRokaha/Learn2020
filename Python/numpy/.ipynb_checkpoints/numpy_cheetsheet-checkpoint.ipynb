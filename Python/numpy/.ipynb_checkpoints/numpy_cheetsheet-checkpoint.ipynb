{
 "cells": [
  {
   "cell_type": "markdown",
   "metadata": {},
   "source": [
    "## numpy cheatsheet"
   ]
  },
  {
   "cell_type": "markdown",
   "metadata": {},
   "source": [
    "### Fundamentals of numpy array"
   ]
  },
  {
   "cell_type": "code",
   "execution_count": 1,
   "metadata": {},
   "outputs": [],
   "source": [
    "import numpy as np\n",
    "\n",
    "# horizantal line\n",
    "def br():\n",
    "    print(\"\")"
   ]
  },
  {
   "cell_type": "code",
   "execution_count": 2,
   "metadata": {
    "scrolled": true
   },
   "outputs": [
    {
     "name": "stdout",
     "output_type": "stream",
     "text": [
      "[2 3 4 5]\n",
      "\n",
      "[[ 3  5  1  5]\n",
      " [12  5 64 42]]\n"
     ]
    }
   ],
   "source": [
    "# Basic 1D array\n",
    "# default datatype will be int32\n",
    "arr1 = np.array([2,3,4,5], dtype ='int16')\n",
    "print(arr1)\n",
    "\n",
    "br()\n",
    "\n",
    "# Basic 2D array\n",
    "arr2 = np.array([[3,5,1,5],[12,5,64,42]])\n",
    "print(arr2)"
   ]
  },
  {
   "cell_type": "code",
   "execution_count": 3,
   "metadata": {
    "scrolled": true
   },
   "outputs": [
    {
     "name": "stdout",
     "output_type": "stream",
     "text": [
      "2\n",
      "\n",
      "(2, 4)\n",
      "\n",
      "int16\n"
     ]
    }
   ],
   "source": [
    "# Get Dimention\n",
    "print(arr2.ndim)\n",
    "\n",
    "br()\n",
    "\n",
    "# Get Shape\n",
    "print(arr2.shape)\n",
    "\n",
    "br()\n",
    "\n",
    "# Get type\n",
    "print(arr1.dtype)"
   ]
  },
  {
   "cell_type": "code",
   "execution_count": 4,
   "metadata": {
    "scrolled": true
   },
   "outputs": [
    {
     "name": "stdout",
     "output_type": "stream",
     "text": [
      "2\n",
      "4\n",
      "\n",
      "8\n",
      "32\n"
     ]
    }
   ],
   "source": [
    "# Get size\n",
    "# item size\n",
    "print(arr1.itemsize)\n",
    "print(arr2.itemsize)\n",
    "\n",
    "br()\n",
    "\n",
    "# get total size\n",
    "print(arr1.itemsize * arr1.size)\n",
    "print(arr2.nbytes)"
   ]
  },
  {
   "cell_type": "markdown",
   "metadata": {},
   "source": [
    "### Data manipulation "
   ]
  },
  {
   "cell_type": "code",
   "execution_count": 5,
   "metadata": {
    "scrolled": true
   },
   "outputs": [
    {
     "name": "stdout",
     "output_type": "stream",
     "text": [
      "[[2 4 6 7 9 7]\n",
      " [1 4 0 9 5 6]]\n",
      "\n",
      "6\n",
      "5\n",
      "\n",
      "[2 4 6 7 9 7]\n",
      "[7 9]\n"
     ]
    }
   ],
   "source": [
    "arr1 = np.array([[2,4,6,7,9,7],[1,4,0,9,5,6]])\n",
    "\n",
    "print(arr1)\n",
    "\n",
    "br()\n",
    "\n",
    "# Getting a specific item arr[row:column]\n",
    "print(arr1[0,2])\n",
    "print(arr1[-1,-2])\n",
    "\n",
    "br()\n",
    "\n",
    "# Getting only row or column\n",
    "print(arr1[0, :])\n",
    "print(arr1[: , 3])\n"
   ]
  },
  {
   "cell_type": "code",
   "execution_count": 6,
   "metadata": {
    "scrolled": false
   },
   "outputs": [
    {
     "name": "stdout",
     "output_type": "stream",
     "text": [
      "[4 9]\n",
      "[[6 5 9 0 4 1]\n",
      " [7 9 7 6 4 2]]\n"
     ]
    }
   ],
   "source": [
    "# slicing [start:end:step]\n",
    "print(arr1[1, 1:-2:2])\n",
    "print(arr1[::-1, ::-1])"
   ]
  },
  {
   "cell_type": "code",
   "execution_count": 7,
   "metadata": {
    "scrolled": true
   },
   "outputs": [
    {
     "name": "stdout",
     "output_type": "stream",
     "text": [
      "[[ 2  4  6  7  9  7]\n",
      " [ 1  4 22  9  5  6]]\n",
      "\n",
      "[[ 9  8  6 11  9  7]\n",
      " [ 1  4 22 33  5  6]]\n"
     ]
    }
   ],
   "source": [
    "# changing element\n",
    "arr1[1,2] = 22\n",
    "print(arr1)\n",
    "\n",
    "br()\n",
    "\n",
    "# changing list of elements\n",
    "arr1[0, :2:] = [9,8]\n",
    "arr1[:, 3] = [11,33]\n",
    "print(arr1)"
   ]
  },
  {
   "cell_type": "code",
   "execution_count": 8,
   "metadata": {
    "scrolled": true
   },
   "outputs": [
    {
     "name": "stdout",
     "output_type": "stream",
     "text": [
      "[[[1 2]\n",
      "  [3 4]]\n",
      "\n",
      " [[5 6]\n",
      "  [7 8]]]\n",
      "\n",
      "7\n",
      "\n",
      "[[[1 2]\n",
      "  [3 4]]\n",
      "\n",
      " [[5 9]\n",
      "  [7 9]]]\n",
      "\n"
     ]
    }
   ],
   "source": [
    "# 3d narray\n",
    "arr2 = np.array([[[1,2],[3,4]],[[5,6],[7,8]]])\n",
    "print(arr2)\n",
    "\n",
    "br()\n",
    "\n",
    "# get spicific element\n",
    "print(arr2[1,1,0])\n",
    "\n",
    "br()\n",
    "\n",
    "# replace\n",
    "arr2[1,:,1] = [9,9]\n",
    "print(arr2)\n",
    "br()"
   ]
  },
  {
   "cell_type": "markdown",
   "metadata": {},
   "source": [
    "### Diffrent types of arrays"
   ]
  },
  {
   "cell_type": "code",
   "execution_count": 9,
   "metadata": {},
   "outputs": [
    {
     "name": "stdout",
     "output_type": "stream",
     "text": [
      "[[0. 0.]\n",
      " [0. 0.]]\n"
     ]
    }
   ],
   "source": [
    "# All Zeros matrix\n",
    "arr = np.zeros((2,2))\n",
    "\n",
    "print(arr)"
   ]
  },
  {
   "cell_type": "code",
   "execution_count": 10,
   "metadata": {},
   "outputs": [
    {
     "name": "stdout",
     "output_type": "stream",
     "text": [
      "Variable   Type        Data/Info\n",
      "--------------------------------\n",
      "arr        ndarray     2x2: 4 elems, type `float64`, 32 bytes\n",
      "arr1       ndarray     2x6: 12 elems, type `int32`, 48 bytes\n",
      "arr2       ndarray     2x2x2: 8 elems, type `int32`, 32 bytes\n",
      "br         function    <function br at 0x000001ED6246F558>\n",
      "np         module      <module 'numpy' from 'C:\\<...>ges\\\\numpy\\\\__init__.py'>\n"
     ]
    }
   ],
   "source": [
    "%whos"
   ]
  },
  {
   "cell_type": "code",
   "execution_count": 11,
   "metadata": {
    "scrolled": true
   },
   "outputs": [
    {
     "name": "stdout",
     "output_type": "stream",
     "text": [
      "[[1. 1. 1. 1.]\n",
      " [1. 1. 1. 1.]\n",
      " [1. 1. 1. 1.]]\n"
     ]
    }
   ],
   "source": [
    "# All ones\n",
    "arr = np.ones((3,4))\n",
    "print(arr)"
   ]
  },
  {
   "cell_type": "code",
   "execution_count": 12,
   "metadata": {
    "scrolled": true
   },
   "outputs": [
    {
     "name": "stdout",
     "output_type": "stream",
     "text": [
      "[[44 44 44]\n",
      " [44 44 44]\n",
      " [44 44 44]]\n"
     ]
    }
   ],
   "source": [
    "# Any nummber\n",
    "arr = np.full((3,3),44)\n",
    "print(arr)"
   ]
  },
  {
   "cell_type": "code",
   "execution_count": 13,
   "metadata": {
    "scrolled": true
   },
   "outputs": [
    {
     "name": "stdout",
     "output_type": "stream",
     "text": [
      "[[0.85972735 0.85300916 0.20773054 0.82937491 0.85402075]\n",
      " [0.14989813 0.66143889 0.59941914 0.78228042 0.48555235]\n",
      " [0.26356385 0.85776437 0.70930108 0.39714632 0.28741654]\n",
      " [0.41416043 0.12080261 0.61066557 0.56626705 0.514258  ]\n",
      " [0.6692861  0.61616666 0.69888021 0.8533345  0.10976761]]\n"
     ]
    }
   ],
   "source": [
    "# Random numbers\n",
    "arr = np.random.rand(5,5)\n",
    "\n",
    "print(arr)"
   ]
  },
  {
   "cell_type": "code",
   "execution_count": 14,
   "metadata": {
    "scrolled": true
   },
   "outputs": [
    {
     "name": "stdout",
     "output_type": "stream",
     "text": [
      "[[54 76 45 91]\n",
      " [84 52 51  3]\n",
      " [65 62 40  0]\n",
      " [45 28 80 99]]\n"
     ]
    }
   ],
   "source": [
    "# Random Ints\n",
    "\n",
    "\n",
    "# arr = np.random.randint(start,end,size = (4,4))\n",
    "arr = np.random.randint(100,size = (4,4))\n",
    "print(arr)"
   ]
  },
  {
   "cell_type": "code",
   "execution_count": 15,
   "metadata": {
    "scrolled": false
   },
   "outputs": [
    {
     "name": "stdout",
     "output_type": "stream",
     "text": [
      "[[1 2 3]\n",
      " [1 2 3]\n",
      " [1 2 3]]\n",
      "\n",
      "[[1 2 3]\n",
      " [1 2 3]\n",
      " [1 2 3]]\n"
     ]
    }
   ],
   "source": [
    "# Repeat array\n",
    "\n",
    "arr = np.array([[1,2,3]])\n",
    "arr1 = np.array([[1,2,3]])\n",
    "\n",
    "rep = np.repeat(arr,3,axis=0)\n",
    "rep1 = np.repeat(arr,3,axis=0)\n",
    "\n",
    "print(rep)\n",
    "\n",
    "br()\n",
    "\n",
    "print(rep)"
   ]
  },
  {
   "cell_type": "code",
   "execution_count": 16,
   "metadata": {
    "scrolled": true
   },
   "outputs": [
    {
     "name": "stdout",
     "output_type": "stream",
     "text": [
      "[[1. 1. 1. 1. 1.]\n",
      " [1. 0. 0. 0. 1.]\n",
      " [1. 0. 9. 0. 1.]\n",
      " [1. 0. 0. 0. 1.]\n",
      " [1. 1. 1. 1. 1.]]\n"
     ]
    }
   ],
   "source": [
    "# Create a picture\n",
    "\n",
    "pic = np.ones((5,5))\n",
    "fill = np.zeros((3,3))\n",
    "fill[1][1] = 9\n",
    "\n",
    "\n",
    "pic[1:-1,1:-1]  = fill     \n",
    "\n",
    "print(pic)\n",
    "\n",
    "\n",
    "\n"
   ]
  },
  {
   "cell_type": "code",
   "execution_count": 17,
   "metadata": {},
   "outputs": [],
   "source": [
    "# Copying arrays\n",
    "\n",
    "# Donot do like this as it points to the original array\n",
    "a = np.array([1,2,3])\n",
    "b = a\n",
    "\n",
    "# Proper way\n",
    "a = np.array([1,2,3])\n",
    "b = a.copy()"
   ]
  },
  {
   "cell_type": "markdown",
   "metadata": {},
   "source": [
    "## MATHS"
   ]
  },
  {
   "cell_type": "code",
   "execution_count": 18,
   "metadata": {
    "scrolled": true
   },
   "outputs": [
    {
     "name": "stdout",
     "output_type": "stream",
     "text": [
      "[3 4 5 6 7]\n",
      "\n",
      "[-1  0  1  2  3]\n",
      "\n",
      "[ 2  4  6  8 10]\n",
      "\n",
      "[0 1 1 2 2]\n",
      "\n",
      "[ 1  4  9 16 25]\n",
      "\n"
     ]
    }
   ],
   "source": [
    "arr = np.array([1,2,3,4,5])\n",
    "\n",
    "# Add\n",
    "arr + 2\n",
    "print(arr + 2)\n",
    "br()\n",
    "\n",
    "# Sub\n",
    "arr - 2\n",
    "print(arr - 2)\n",
    "br()\n",
    "\n",
    "# Product\n",
    "arr * 2\n",
    "print(arr * 2)\n",
    "br()\n",
    "\n",
    "# Div\n",
    "arr / 2\n",
    "print(arr // 2)\n",
    "br()\n",
    "\n",
    "# Power\n",
    "arr ** 2\n",
    "print(arr ** 2)\n",
    "br()\n",
    "\n"
   ]
  },
  {
   "cell_type": "markdown",
   "metadata": {},
   "source": [
    "### Linear Algebra"
   ]
  },
  {
   "cell_type": "code",
   "execution_count": 22,
   "metadata": {
    "scrolled": true
   },
   "outputs": [
    {
     "name": "stdout",
     "output_type": "stream",
     "text": [
      "[[1. 1. 1.]\n",
      " [1. 1. 1.]]\n",
      "[[2 2]\n",
      " [2 2]\n",
      " [2 2]]\n",
      "[[6. 6.]\n",
      " [6. 6.]]\n"
     ]
    }
   ],
   "source": [
    "arr = np.ones((2,3))\n",
    "brr = np.full((3,2),2)\n",
    "\n",
    "print(arr)\n",
    "print(brr)\n",
    "\n",
    "print(np.matmul(arr,brr))"
   ]
  },
  {
   "cell_type": "markdown",
   "metadata": {},
   "source": [
    "#### STATS"
   ]
  },
  {
   "cell_type": "code",
   "execution_count": 24,
   "metadata": {
    "scrolled": true
   },
   "outputs": [
    {
     "name": "stdout",
     "output_type": "stream",
     "text": [
      "1\n",
      "6\n"
     ]
    }
   ],
   "source": [
    "arr = np.array([[1,2,3],[4,5,6]])\n",
    "\n",
    "print(np.min(arr))\n",
    "\n",
    "print(np.max(arr))"
   ]
  },
  {
   "cell_type": "code",
   "execution_count": 25,
   "metadata": {
    "scrolled": true
   },
   "outputs": [
    {
     "data": {
      "text/plain": [
       "21"
      ]
     },
     "execution_count": 25,
     "metadata": {},
     "output_type": "execute_result"
    }
   ],
   "source": [
    "np.sum(arr)"
   ]
  },
  {
   "cell_type": "markdown",
   "metadata": {},
   "source": [
    "### Reorganize"
   ]
  },
  {
   "cell_type": "code",
   "execution_count": 31,
   "metadata": {},
   "outputs": [
    {
     "name": "stdout",
     "output_type": "stream",
     "text": [
      "[[1. 1. 1.]\n",
      " [1. 1. 1.]\n",
      " [2. 2. 2.]\n",
      " [2. 2. 2.]]\n",
      "\n",
      "[[1. 1. 1. 2. 2. 2.]\n",
      " [1. 1. 1. 2. 2. 2.]]\n"
     ]
    }
   ],
   "source": [
    "# Verticall stacking\n",
    "arr = np.ones((2,3))\n",
    "brr = np.full((2,3),2)\n",
    "\n",
    "print(np.vstack([arr,brr]))\n",
    "\n",
    "br()\n",
    "\n",
    "# Horizantal stacking\n",
    "print(np.hstack([arr,brr]))"
   ]
  },
  {
   "cell_type": "code",
   "execution_count": null,
   "metadata": {},
   "outputs": [],
   "source": []
  },
  {
   "cell_type": "code",
   "execution_count": null,
   "metadata": {},
   "outputs": [],
   "source": []
  }
 ],
 "metadata": {
  "kernelspec": {
   "display_name": "Python 3",
   "language": "python",
   "name": "python3"
  },
  "language_info": {
   "codemirror_mode": {
    "name": "ipython",
    "version": 3
   },
   "file_extension": ".py",
   "mimetype": "text/x-python",
   "name": "python",
   "nbconvert_exporter": "python",
   "pygments_lexer": "ipython3",
   "version": "3.7.4"
  }
 },
 "nbformat": 4,
 "nbformat_minor": 2
}
