{
 "cells": [
  {
   "cell_type": "code",
   "execution_count": 5,
   "metadata": {},
   "outputs": [
    {
     "name": "stdout",
     "output_type": "stream",
     "text": [
      "(1, 'Hello', 3.4)\n"
     ]
    }
   ],
   "source": [
    "# Tuples are immutable list of ordered data\n",
    "\n",
    "# Create a tuple\n",
    "\n",
    "# Empty tuple\n",
    "atuple = ()\n",
    "\n",
    "# Tuple having integers\n",
    "atuple = (1, 2, 3)\n",
    "\n",
    "# tuple with mixed datatypes\n",
    "atuple = (1, \"Hello\", 3.4) # atuple = 1,\"Hello\",3.4\n",
    "\n",
    "print(atuple)\n",
    "\n",
    "# the () are optional"
   ]
  },
  {
   "cell_type": "code",
   "execution_count": 16,
   "metadata": {
    "scrolled": true
   },
   "outputs": [
    {
     "name": "stdout",
     "output_type": "stream",
     "text": [
      "banana grape\n",
      "3\n"
     ]
    }
   ],
   "source": [
    "# Access elements unsing indexing\n",
    "atuple = 'apple','mango','orange','banana','pineapple','grape'\n",
    "print(atuple[3],atuple[-1])\n",
    "\n",
    "\n",
    "# find the index \n",
    "print(atuple.index('banana'))"
   ]
  },
  {
   "cell_type": "code",
   "execution_count": 17,
   "metadata": {
    "scrolled": true
   },
   "outputs": [
    {
     "name": "stdout",
     "output_type": "stream",
     "text": [
      "apple\n",
      "mango\n",
      "orange\n",
      "banana\n",
      "pineapple\n",
      "grape\n",
      "yes\n"
     ]
    }
   ],
   "source": [
    "atuple = 'apple','mango','orange','banana','pineapple','grape'\n",
    "# loop in a tuple\n",
    "for x in atuple:\n",
    "    print(x)\n",
    "    \n",
    "\n",
    "# Check if element is present    \n",
    "if 'mango' in atuple:\n",
    "    print('yes')\n",
    "    "
   ]
  },
  {
   "cell_type": "code",
   "execution_count": 18,
   "metadata": {
    "scrolled": true
   },
   "outputs": [
    {
     "name": "stdout",
     "output_type": "stream",
     "text": [
      "6\n",
      "1\n"
     ]
    }
   ],
   "source": [
    "# get the length using len func\n",
    "print(len(atuple))\n",
    "    \n",
    "\n",
    "# count element\n",
    "\n",
    "print(atuple.count('mango'))"
   ]
  },
  {
   "cell_type": "code",
   "execution_count": 19,
   "metadata": {
    "scrolled": true
   },
   "outputs": [
    {
     "name": "stdout",
     "output_type": "stream",
     "text": [
      "<class 'list'>\n"
     ]
    }
   ],
   "source": [
    "# getting a list form tuple works both ways\n",
    "mylist = list(atuple)\n",
    "print(type(mylist))"
   ]
  },
  {
   "cell_type": "code",
   "execution_count": 27,
   "metadata": {
    "scrolled": true
   },
   "outputs": [
    {
     "name": "stdout",
     "output_type": "stream",
     "text": [
      "('apple', 'orange', 'pineapple')\n",
      "('grape', 'pineapple', 'banana', 'orange', 'mango', 'apple')\n"
     ]
    }
   ],
   "source": [
    "# Slicing works as in list\n",
    "# tuple[start:stop:step]\n",
    "print(atuple[0:6:2])\n",
    "\n",
    "# reverse a tuple\n",
    "print(atuple[::-1])"
   ]
  },
  {
   "cell_type": "code",
   "execution_count": 40,
   "metadata": {},
   "outputs": [
    {
     "name": "stdout",
     "output_type": "stream",
     "text": [
      "name = John age = 22 and city = Melbourne\n",
      "1\n",
      "[2, 3, 4, 5, 6, 7, 8]\n",
      "9\n"
     ]
    }
   ],
   "source": [
    "# Tuple unpacking\n",
    "\n",
    "per_details = 'John',22,'Melbourne'\n",
    "\n",
    "name,age,city = per_details\n",
    "\n",
    "print(f'name = {name} age = {age} and city = {city}')\n",
    "\n",
    "\n",
    "\n",
    "nums = (1,2,3,4,5,6,7,8,9)\n",
    "n1,*n2,n3 = nums\n",
    "print(n1)\n",
    "print(n2)\n",
    "print(n3)\n"
   ]
  }
 ],
 "metadata": {
  "kernelspec": {
   "display_name": "Python 3",
   "language": "python",
   "name": "python3"
  },
  "language_info": {
   "codemirror_mode": {
    "name": "ipython",
    "version": 3
   },
   "file_extension": ".py",
   "mimetype": "text/x-python",
   "name": "python",
   "nbconvert_exporter": "python",
   "pygments_lexer": "ipython3",
   "version": "3.7.4"
  }
 },
 "nbformat": 4,
 "nbformat_minor": 2
}
