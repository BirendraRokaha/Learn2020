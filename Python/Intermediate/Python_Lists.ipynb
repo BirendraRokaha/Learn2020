{
 "cells": [
  {
   "cell_type": "code",
   "execution_count": 1,
   "metadata": {
    "scrolled": false
   },
   "outputs": [
    {
     "name": "stdout",
     "output_type": "stream",
     "text": [
      "[1, 3, 'apple', 23.01]\n"
     ]
    }
   ],
   "source": [
    "# Python lists / Arrays\n",
    "\n",
    "# A python list is a colliction of items in any order. \n",
    "# It can store multile data type, duplicate elements and is mutable\n",
    "\n",
    "# Create an empty list\n",
    "list1 = list() # Or list1 = []\n",
    "\n",
    "list1 = [ 1,3,'apple',23.01]\n",
    "\n",
    "print(list1)"
   ]
  },
  {
   "cell_type": "code",
   "execution_count": 2,
   "metadata": {
    "scrolled": true
   },
   "outputs": [
    {
     "name": "stdout",
     "output_type": "stream",
     "text": [
      "apple\n",
      "banana\n",
      "mango\n",
      "banana\n",
      "['orange', 'mango']\n",
      "['mango', 'orange']\n",
      "['mango', 'banana', 'orange', 'apple']\n"
     ]
    }
   ],
   "source": [
    "# Indexing a python list\n",
    "\n",
    "list1 = ['apple','orange','banana','mango']\n",
    "# index =   0       1        2        3     \n",
    "\n",
    "# To print elements just put the index number in a square bracket \n",
    "# Indices start form 0\n",
    "\n",
    "# Print the first item.\n",
    "print(list1[0])\n",
    "\n",
    "# print the third item\n",
    "print(list1[2])\n",
    "\n",
    "# Negative index prints from last element\n",
    "print(list1[-1])\n",
    "print(list1[-2])\n",
    "\n",
    "# Slicing a list\n",
    "# [start index : finish index : steps]\n",
    "# by default [0:-1:1]\n",
    "print(list1[1::2])\n",
    "print(list1[3:0:-2])\n",
    "\n",
    "# reverse a list\n",
    "\n",
    "print(list1[::-1])\n"
   ]
  },
  {
   "cell_type": "code",
   "execution_count": 3,
   "metadata": {
    "scrolled": true
   },
   "outputs": [
    {
     "name": "stdout",
     "output_type": "stream",
     "text": [
      "4\n",
      "index = 0 data = apple\n",
      "index = 1 data = orange\n",
      "index = 2 data = banana\n",
      "index = 3 data = mango\n",
      "apple\n",
      "orange\n",
      "banana\n",
      "mango\n"
     ]
    }
   ],
   "source": [
    "# Looping a list\n",
    "\n",
    "list1 = ['apple','orange','banana','mango']\n",
    "\n",
    "# Two methods each has their own use cases\n",
    "# Method 1 : using the legth of list\n",
    "\n",
    "# len creates the length of the list\n",
    "print(len(list1))\n",
    "for i in range(len(list1)):\n",
    "    print(f'index = {i} data = {list1[i]}')\n",
    "    \n",
    "# mentod 2 : the python way\n",
    "\n",
    "for i in list1:\n",
    "    print(i)\n",
    "    "
   ]
  },
  {
   "cell_type": "code",
   "execution_count": 4,
   "metadata": {
    "scrolled": true
   },
   "outputs": [
    {
     "name": "stdout",
     "output_type": "stream",
     "text": [
      "yes\n",
      "no\n"
     ]
    }
   ],
   "source": [
    "# Check if an item exists in a list\n",
    "\n",
    "list1 = ['apple','orange','banana','mango']\n",
    "\n",
    "# checks if banana is in list 1\n",
    "if 'banana' in list1:\n",
    "    print('yes')\n",
    "else:\n",
    "    print('no')\n",
    "    \n",
    "# Checks if papaya is in list 1\n",
    "if 'papaya' in list1:\n",
    "    print('yes')\n",
    "else:\n",
    "    print('no')"
   ]
  },
  {
   "cell_type": "code",
   "execution_count": 5,
   "metadata": {
    "scrolled": true
   },
   "outputs": [
    {
     "name": "stdout",
     "output_type": "stream",
     "text": [
      "['apple', 'orange', 'banana', 'mango', 'papaya']\n",
      "['kiwi', 'apple', 'orange', 'banana', 'mango', 'papaya']\n"
     ]
    }
   ],
   "source": [
    "# Add items in a list\n",
    "\n",
    "list1 = ['apple','orange','banana','mango']\n",
    "\n",
    "# add new element to the end of an array\n",
    "# Use the {list_name}.append(value) method\n",
    "\n",
    "list1.append('papaya')\n",
    "print(list1)\n",
    "\n",
    "# add element to the specific index\n",
    "# use the {list_name}.insert(index,value) method\n",
    "# This method transfers all the element of the list one index further\n",
    "\n",
    "list1.insert(0,'kiwi')\n",
    "print(list1)"
   ]
  },
  {
   "cell_type": "code",
   "execution_count": 6,
   "metadata": {
    "scrolled": true
   },
   "outputs": [
    {
     "name": "stdout",
     "output_type": "stream",
     "text": [
      "['apple', 'banana', 'mango']\n",
      "['apple', 'mango']\n"
     ]
    }
   ],
   "source": [
    "# Remove elements form a list\n",
    "\n",
    "list1 = ['apple','orange','banana','mango']\n",
    "\n",
    "# to remove certain element whose value is known\n",
    "# use the {list_name}.remove(value)\n",
    "\n",
    "list1.remove('orange')\n",
    "print(list1)\n",
    "\n",
    "# to remove certain element with the index\n",
    "# use the {list_name}.pop(index_optional)\n",
    "# if index is not provided it removes the last element\n",
    "list1.pop(1)\n",
    "print(list1)"
   ]
  },
  {
   "cell_type": "code",
   "execution_count": 7,
   "metadata": {
    "scrolled": true
   },
   "outputs": [
    {
     "name": "stdout",
     "output_type": "stream",
     "text": [
      "['apple', 'orange', 'banana', 'mango', 'jasmine', 'rose', 'sunflower']\n",
      "['apple', 'orange', 'banana', 'mango'] ['jasmine', 'rose', 'sunflower']\n",
      "['apple', 'orange', 'banana', 'mango', 'jasmine', 'rose', 'sunflower']\n",
      "['apple', 'orange', 'banana', 'mango', 'jasmine', 'rose', 'sunflower'] ['jasmine', 'rose', 'sunflower']\n"
     ]
    }
   ],
   "source": [
    "# Join/concadinate two lists\n",
    "\n",
    "list1 = ['apple','orange','banana','mango']\n",
    "list2 = ['jasmine','rose','sunflower']\n",
    "\n",
    "# by using the + operator\n",
    "# doesnot change the original lists\n",
    "list3 = list1 +list2\n",
    "print(list3)\n",
    "print(list1,list2)\n",
    "\n",
    "# join the lists using the extend method\n",
    "# Changes the list1 list\n",
    "list1.extend(list2)\n",
    "print(list1)\n",
    "print(list1,list2)"
   ]
  },
  {
   "cell_type": "code",
   "execution_count": 8,
   "metadata": {
    "scrolled": true
   },
   "outputs": [
    {
     "name": "stdout",
     "output_type": "stream",
     "text": [
      "[5, 87, 2, 9, 1, 4, 6, 22, 54, 88, 76]\n",
      "[1, 2, 4, 5, 6, 9, 22, 54, 76, 87, 88]\n",
      "[1, 2, 4, 5, 6, 9, 22, 54, 76, 87, 88]\n",
      "[1, 2, 4, 5, 6, 9, 22, 54, 76, 87, 88]\n",
      "[88, 87, 76, 54, 22, 9, 6, 5, 4, 2, 1]\n",
      "[88, 87, 76, 54, 22, 9, 6, 5, 4, 2, 1]\n"
     ]
    }
   ],
   "source": [
    "# Sorting a list using in build method\n",
    "\n",
    "list1 = [5,87,2,9,1,4,6,22,54,88,76]\n",
    "\n",
    "# create a new sorted array and dont change the original\n",
    "list1_new = sorted(list1)\n",
    "print(list1)\n",
    "print(list1_new)\n",
    "\n",
    "# sort the original array\n",
    "list1.sort()\n",
    "print(list1)\n",
    "\n",
    "\n",
    "# reverse sort\n",
    "\n",
    "# create a new sorted array and dont change the original\n",
    "list1_new = sorted(list1,reverse = True)\n",
    "print(list1)\n",
    "print(list1_new)\n",
    "\n",
    "# sort the original array\n",
    "list1.sort(reverse=True)\n",
    "print(list1)"
   ]
  },
  {
   "cell_type": "code",
   "execution_count": 9,
   "metadata": {},
   "outputs": [
    {
     "name": "stdout",
     "output_type": "stream",
     "text": [
      "[1, 2, 3, 4, 5, 6, 7, 8, 9, 10]\n",
      "[1, 4, 9, 16, 25, 36, 49, 64, 81, 100]\n"
     ]
    }
   ],
   "source": [
    "# List comprehension\n",
    "\n",
    "list1 = [*range(1,11)] \n",
    "print(list1)\n",
    "\n",
    "list2 = [i*i for i in list1]\n",
    "print(list2)"
   ]
  }
 ],
 "metadata": {
  "kernelspec": {
   "display_name": "Python 3",
   "language": "python",
   "name": "python3"
  },
  "language_info": {
   "codemirror_mode": {
    "name": "ipython",
    "version": 3
   },
   "file_extension": ".py",
   "mimetype": "text/x-python",
   "name": "python",
   "nbconvert_exporter": "python",
   "pygments_lexer": "ipython3",
   "version": "3.7.4"
  }
 },
 "nbformat": 4,
 "nbformat_minor": 2
}
