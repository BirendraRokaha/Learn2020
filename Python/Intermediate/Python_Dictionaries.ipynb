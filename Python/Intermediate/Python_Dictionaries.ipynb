{
 "cells": [
  {
   "cell_type": "code",
   "execution_count": null,
   "metadata": {},
   "outputs": [],
   "source": [
    "# Dictionaries in Python"
   ]
  },
  {
   "cell_type": "code",
   "execution_count": 1,
   "metadata": {},
   "outputs": [
    {
     "name": "stdout",
     "output_type": "stream",
     "text": [
      "{'Max': 33, 'Alex': 21, 'George': 44, 'Lando': 4, 'Seb': 5}\n"
     ]
    }
   ],
   "source": [
    "# Create a dict using python list\n",
    "\n",
    "name = ['Max','Alex','George','Lando','Seb']\n",
    "number = [33,21,44,4,5]\n",
    "\n",
    "# name_nums = {'names':name,'numbers':number}\n",
    "# print(name_nums)\n",
    "\n",
    "# using zip\n",
    "\n",
    "details = dict(zip(name,number))\n",
    "\n",
    "print(details)"
   ]
  },
  {
   "cell_type": "code",
   "execution_count": 3,
   "metadata": {
    "scrolled": false
   },
   "outputs": [
    {
     "name": "stdout",
     "output_type": "stream",
     "text": [
      "1\n",
      "1000\n",
      "5000\n",
      "4\n"
     ]
    }
   ],
   "source": [
    "# Nested dictionaries\n",
    "\n",
    "rank_products = {'a':{'rank':1,'sales':1000},\n",
    "                 'b':{'rank':3,'sales':5000},\n",
    "                 'c':{'rank':2,'sales':2000},\n",
    "                 'd':{'rank':4,'sales':6000},\n",
    "                 'e':{'rank':5,'sales':9000}}\n",
    "\n",
    "# access elements\n",
    "print(rank_products['a']['rank'])\n",
    "print(rank_products['a']['sales'])\n",
    "print(rank_products['b']['sales'])\n",
    "print(rank_products['d']['rank'])"
   ]
  },
  {
   "cell_type": "code",
   "execution_count": 4,
   "metadata": {
    "scrolled": true
   },
   "outputs": [
    {
     "name": "stdout",
     "output_type": "stream",
     "text": [
      "{'a': 1, 'b': 2, 'c': 3, 'd': 4, 'e': 5}\n",
      "{'a': 1, 'b': 2, 'd': 4}\n"
     ]
    }
   ],
   "source": [
    "# removing values form dictionaries\n",
    "a_dict = {'a':1,'b':2,'c':3,'d':4,'e':5}\n",
    "print(a_dict)\n",
    "\n",
    "# one or many using , to seperate if many\n",
    "del(a_dict['c'],a_dict['e'])\n",
    "print(a_dict)"
   ]
  },
  {
   "cell_type": "code",
   "execution_count": 5,
   "metadata": {
    "scrolled": false
   },
   "outputs": [
    {
     "name": "stdout",
     "output_type": "stream",
     "text": [
      "{'a': 1, 'b': 2, 'c': 3, 'd': 4, 'e': 5, 'f': 6, 'g': 7, 'h': 8}\n"
     ]
    }
   ],
   "source": [
    "# Add elements\n",
    "a_dict = {'a':1,'b':2,'c':3,'d':4,'e':5}\n",
    "\n",
    "a_dict['f'] = 6\n",
    "\n",
    "a_dict.update({'g':7,'h':8})\n",
    "print(a_dict)\n"
   ]
  },
  {
   "cell_type": "code",
   "execution_count": 6,
   "metadata": {},
   "outputs": [
    {
     "name": "stdout",
     "output_type": "stream",
     "text": [
      "{'a': 1, 'b': 2, 'c': 7, 'd': 4, 'e': 5}\n",
      "{'a': 1, 'b': 12, 'c': 7, 'd': 4, 'e': 9}\n"
     ]
    }
   ],
   "source": [
    "# Updating existing elements\n",
    "a_dict = {'a':1,'b':2,'c':3,'d':4,'e':5}\n",
    "\n",
    "a_dict['c'] = 7\n",
    "print(a_dict)\n",
    "\n",
    "a_dict.update({'b':12,'e':9})\n",
    "print(a_dict)"
   ]
  }
 ],
 "metadata": {
  "kernelspec": {
   "display_name": "Python 3",
   "language": "python",
   "name": "python3"
  },
  "language_info": {
   "codemirror_mode": {
    "name": "ipython",
    "version": 3
   },
   "file_extension": ".py",
   "mimetype": "text/x-python",
   "name": "python",
   "nbconvert_exporter": "python",
   "pygments_lexer": "ipython3",
   "version": "3.7.4"
  }
 },
 "nbformat": 4,
 "nbformat_minor": 2
}
