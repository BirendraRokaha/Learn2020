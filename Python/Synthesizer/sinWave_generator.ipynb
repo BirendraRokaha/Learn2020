{
 "cells": [
  {
   "cell_type": "code",
   "execution_count": 1,
   "metadata": {},
   "outputs": [],
   "source": [
    "# Create a sin wave and writing it to a file\n",
    "\n",
    "import numpy as np\n",
    "from scipy.io.wavfile import write\n",
    "import time\n",
    "\n",
    "# Samples per second\n",
    "sample_per_second = 44100\n",
    "\n",
    "# Frequency / pitch of the sine wave\n",
    "freq_hz = 440.0\n",
    "\n",
    "# Duration\n",
    "duration_s = 3.0\n",
    "\n",
    "# NumpPy creates an array\n",
    "each_sample_number = np.arange(duration_s * sample_per_second)\n",
    "\n",
    "# print(len(each_sample_number))\n",
    "waveform = np.sin(2 * np.pi * each_sample_number * freq_hz / sample_per_second)\n",
    "# waveform_quiet = waveform * 0.3\n",
    "# waveform_integers = np.int16(waveform_quiet * 32767)\n",
    "waveform_integers = np.int16(waveform * 32767)\n",
    "\n",
    "\n",
    "# Write the .wav file\n",
    "write('first_sine_wave.wav', sample_per_second, waveform_integers)"
   ]
  },
  {
   "cell_type": "code",
   "execution_count": 6,
   "metadata": {},
   "outputs": [],
   "source": [
    "import numpy as np\n",
    "from scipy.io.wavfile import write\n",
    "\n",
    "# Properties of the wav\n",
    "sample_per_second = 44100\n",
    "\n",
    "# C note\n",
    "carrier_hz_C = 261.626 \n",
    "\n",
    "\n",
    "# A note\n",
    "carrier_hz_A = 440.0 \n",
    "\n",
    "duration_s = 3.0\n",
    "\n",
    "# Calculate the sine wave\n",
    "t_samples = np.arange(sample_per_second * duration_s)\n",
    "carrier = np.sin(2 * np.pi * carrier_hz_C * t_samples / sample_per_second)\n",
    "\n",
    "carrier *= 0.3\n",
    "carrier_ints = np.int16(carrier * 32767)\n",
    "\n",
    "# Write the wav file\n",
    "write('simple_sine.wav', sample_per_second, carrier_ints)"
   ]
  },
  {
   "cell_type": "code",
   "execution_count": 4,
   "metadata": {},
   "outputs": [],
   "source": [
    "# Import libraries\n",
    "import numpy as np\n",
    "from scipy.io.wavfile import write\n",
    "\n",
    "# Properties of the wav\n",
    "sample_per_second = 44100    \n",
    "\n",
    "carrier_hz = 440.0\n",
    "modulator_hz = 2.0\n",
    "ac = 1.0\n",
    "ka = 0.75\n",
    "duration_s = 10.0\n",
    "\n",
    "# Calculate the sine wave\n",
    "t_samples = np.arange(sample_per_second * duration_s)\n",
    "carrier = np.sin(2 * np.pi * carrier_hz * t_samples / sample_per_second)\n",
    "\n",
    "# Modulate the carrier\n",
    "modulator = np.sin(2 * np.pi * modulator_hz * t_samples / sample_per_second)\n",
    "envelope = ac * (1.0 + ka * modulator)\n",
    "modulated = envelope * carrier\n",
    "\n",
    "\n",
    "# Write the wav file\n",
    "modulated *= 0.3\n",
    "modulated_ints = np.int16(modulated * 32767)\n",
    "write('modulated.wav', sample_per_second, modulated_ints)"
   ]
  }
 ],
 "metadata": {
  "kernelspec": {
   "display_name": "Python 3",
   "language": "python",
   "name": "python3"
  },
  "language_info": {
   "codemirror_mode": {
    "name": "ipython",
    "version": 3
   },
   "file_extension": ".py",
   "mimetype": "text/x-python",
   "name": "python",
   "nbconvert_exporter": "python",
   "pygments_lexer": "ipython3",
   "version": "3.7.4"
  }
 },
 "nbformat": 4,
 "nbformat_minor": 2
}
