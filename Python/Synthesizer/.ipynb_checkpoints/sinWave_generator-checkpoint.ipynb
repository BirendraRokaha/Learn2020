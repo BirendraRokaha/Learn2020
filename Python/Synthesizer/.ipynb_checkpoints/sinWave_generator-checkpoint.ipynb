{
 "cells": [
  {
   "cell_type": "code",
   "execution_count": 11,
   "metadata": {},
   "outputs": [],
   "source": [
    "# Create a sin wave and writing it to a file\n",
    "\n",
    "import numpy as np\n",
    "from scipy.io.wavfile import write\n",
    "import time\n",
    "\n",
    "# Samples per second\n",
    "sample_per_second = 44100\n",
    "\n",
    "# Frequency / pitch of the sine wave\n",
    "freq_hz = 440.0\n",
    "\n",
    "# Duration\n",
    "duration_s = 3.0\n",
    "\n",
    "# NumpPy creates an array\n",
    "each_sample_number = np.arange(duration_s * sample_per_second)\n",
    "\n",
    "# print(len(each_sample_number))\n",
    "waveform = np.sin(2 * np.pi * each_sample_number * freq_hz / sps)\n",
    "# waveform_quiet = waveform * 0.3\n",
    "# waveform_integers = np.int16(waveform_quiet * 32767)\n",
    "waveform_integers = np.int16(waveform * 32767)\n",
    "\n",
    "\n",
    "# Write the .wav file\n",
    "write('first_sine_wave.wav', sample_per_second, waveform_integers)"
   ]
  }
 ],
 "metadata": {
  "kernelspec": {
   "display_name": "Python 3",
   "language": "python",
   "name": "python3"
  },
  "language_info": {
   "codemirror_mode": {
    "name": "ipython",
    "version": 3
   },
   "file_extension": ".py",
   "mimetype": "text/x-python",
   "name": "python",
   "nbconvert_exporter": "python",
   "pygments_lexer": "ipython3",
   "version": "3.7.4"
  }
 },
 "nbformat": 4,
 "nbformat_minor": 2
}
