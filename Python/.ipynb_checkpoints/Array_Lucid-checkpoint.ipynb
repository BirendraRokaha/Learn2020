{
 "cells": [
  {
   "cell_type": "code",
   "execution_count": 1,
   "metadata": {
    "scrolled": true
   },
   "outputs": [
    {
     "name": "stdout",
     "output_type": "stream",
     "text": [
      "Success\n"
     ]
    }
   ],
   "source": [
    "# Advanced array game\n",
    "\n",
    "def advanced_array(A):\n",
    "    furthest_reached = 0\n",
    "    last_index = len(A) - 1\n",
    "    i = 0\n",
    "    while furthest_reached >= i and furthest_reached < last_index:\n",
    "        furthest_reached = max(furthest_reached,A[i] + i)\n",
    "        i+=1\n",
    "        \n",
    "    return furthest_reached >= last_index\n",
    "\n",
    "\n",
    "A = [3,3,1,0,2,0,1]\n",
    "\n",
    "if advanced_array(A):\n",
    "    print('Success')\n",
    "else:\n",
    "    print('faliure')"
   ]
  },
  {
   "cell_type": "code",
   "execution_count": 5,
   "metadata": {
    "scrolled": true
   },
   "outputs": [
    {
     "name": "stdout",
     "output_type": "stream",
     "text": [
      "[1, 5, 0]\n",
      "[1, 0, 0, 0]\n"
     ]
    }
   ],
   "source": [
    "# Array precision \n",
    "\n",
    "def my_func(A):\n",
    "    A[-1] +=1\n",
    "    for i in reversed(range(1,len(A))):\n",
    "        if A[i] != 10:\n",
    "            break\n",
    "        A[i] = 0\n",
    "        A[i-1] += 1\n",
    "    if A[0] == 10:\n",
    "        A[0] = 1\n",
    "        A.append(0)\n",
    "    return A\n",
    "\n",
    "A= [1,4,9]\n",
    "B = [9,9,9]\n",
    "print(my_func(A))\n",
    "print(my_func(B))"
   ]
  },
  {
   "cell_type": "code",
   "execution_count": 55,
   "metadata": {},
   "outputs": [
    {
     "name": "stdout",
     "output_type": "stream",
     "text": [
      "-2 11\n",
      "1 11\n",
      "1 7\n",
      "2 7\n",
      "4 7\n",
      "4 7\n",
      "True\n"
     ]
    }
   ],
   "source": [
    "# Two sum problem\n",
    "\n",
    "# Very bad method always try to avoid\n",
    "# Time complexicity =  O(n^2) two loops used\n",
    "# Space complexicity = O(1) no other data structure used to store more values\n",
    "# def brut_force(A, t):\n",
    "#     for i in range(len(A) - 1):\n",
    "#         for j in range(i+1,len(A)):\n",
    "#             if A[i] + A[j] == t:\n",
    "#                 return A[i],A[j]    \n",
    "#     return False\n",
    "\n",
    "\n",
    "# Time complexicity =  O(n) a loop used\n",
    "# Space complexicity = O(n) a dict used to store value\n",
    "# def new_fufunc(A,t):\n",
    "#     ht = dict()\n",
    "#     for i in range(len(A)):\n",
    "#         if A[i] in ht:\n",
    "#             print(ht[A[i]],A[i])\n",
    "#             return True\n",
    "#         else:\n",
    "#             ht[t-A[i]] = A[i]\n",
    "#     return False\n",
    "      \n",
    "\n",
    "# Time complexicity =  O(n) a loop used\n",
    "# Space complexicity = O(1) no aux data struct used\n",
    "def best_method(A,t):\n",
    "#     Works only if the target is greater then A[-1]\n",
    "#     for i in range(len(A)):\n",
    "#         if A[i] + A[-1] == t:\n",
    "#             print(A[i],A[-1])\n",
    "#             return True\n",
    "#     return False\n",
    "    i = 0\n",
    "    j = len(A) -1\n",
    "    \n",
    "    while i <= j:\n",
    "        print(A[i], A[j])\n",
    "        if A[i] + A[j] == t:\n",
    "            print(A[i], A[j])\n",
    "            return True\n",
    "        elif A[i] + A[j] < t:\n",
    "            i+=1\n",
    "        else:\n",
    "            j-=1\n",
    "            \n",
    "    return False\n",
    "    \n",
    "A = [-2,1,2,4,7,11]\n",
    "t = 11\n",
    "\n",
    "# print(brut_force(A,t))\n",
    "# print(new_fufunc(A,t))\n",
    "\n",
    "print(best_method(A,t))\n"
   ]
  }
 ],
 "metadata": {
  "kernelspec": {
   "display_name": "Python 3",
   "language": "python",
   "name": "python3"
  },
  "language_info": {
   "codemirror_mode": {
    "name": "ipython",
    "version": 3
   },
   "file_extension": ".py",
   "mimetype": "text/x-python",
   "name": "python",
   "nbconvert_exporter": "python",
   "pygments_lexer": "ipython3",
   "version": "3.7.4"
  }
 },
 "nbformat": 4,
 "nbformat_minor": 2
}
