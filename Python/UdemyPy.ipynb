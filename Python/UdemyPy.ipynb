{
 "cells": [
  {
   "cell_type": "code",
   "execution_count": null,
   "metadata": {},
   "outputs": [],
   "source": [
    "# basic if elif else structure\n",
    "country = input(\"enter our country: \")\n",
    "a = country.lower()\n",
    "if a == 'nepal':\n",
    "    print(\"Nepali\")\n",
    "elif a == \"australia\":\n",
    "    print(\"Aussie\")\n",
    "elif a == \"uk\":\n",
    "    print(\"British\")\n",
    "else:\n",
    "    print(\"Unknown\")"
   ]
  },
  {
   "cell_type": "code",
   "execution_count": 33,
   "metadata": {
    "scrolled": true
   },
   "outputs": [
    {
     "name": "stdout",
     "output_type": "stream",
     "text": [
      "basic loop of list\n",
      "1 is odd\n",
      "2 is even\n",
      "3 is odd\n",
      "4 is even\n",
      "5 is odd\n",
      "\n",
      "use of _\n",
      "[1, 2, 3, 4, 5]\n",
      "[1, 2, 3, 4, 5]\n",
      "[1, 2, 3, 4, 5]\n",
      "[1, 2, 3, 4, 5]\n",
      "[1, 2, 3, 4, 5]\n",
      "\n",
      "tuple unpacking\n",
      "1 is first and 2 is last.\n",
      "3 is first and 4 is last.\n",
      "5 is first and 6 is last.\n",
      "\n",
      "Dictionary\n",
      "a is key and 1 is value\n",
      "b is key and 2 is value\n",
      "c is key and 3 is value\n",
      "a\n",
      "b\n",
      "c\n",
      "1\n",
      "2\n",
      "3\n"
     ]
    }
   ],
   "source": [
    "# for loop basic structure\n",
    "print(\"basic loop of list\")\n",
    "a = [1,2,3,4,5]\n",
    "for i in a:\n",
    "    if i % 2 == 0:\n",
    "        print(f\"{i} is even\")\n",
    "    else:\n",
    "        print(f\"{i} is odd\")\n",
    "print(\"\")\n",
    "\n",
    "# when you dont need a variable use \"_\"\n",
    "print(\"use of _\")\n",
    "for _ in a:\n",
    "    print(a)\n",
    "print(\"\")    \n",
    "# tuple unpacking\n",
    "print(\"tuple unpacking\")\n",
    "my_list = [(1,2),(3,4),(5,6)]\n",
    "for (a,b) in my_list:\n",
    "    print(f\"{a} is first and {b} is last.\")\n",
    "print(\"\")    \n",
    "#dictionary \n",
    "print(\"Dictionary\")\n",
    "d = {'a':1,'b':2,'c':3}\n",
    "for key,value in d.items():\n",
    "    print(f\"{key} is key and {value} is value\")\n",
    "    \n",
    "# only keys\n",
    "for i in d:\n",
    "    print(i)\n",
    "    \n",
    "#only values\n",
    "for i in d.values():\n",
    "    print(i)"
   ]
  },
  {
   "cell_type": "code",
   "execution_count": 23,
   "metadata": {
    "scrolled": true
   },
   "outputs": [
    {
     "name": "stdout",
     "output_type": "stream",
     "text": [
      "0\n",
      "1\n",
      "2\n",
      "3\n",
      "4\n",
      "Run out of number!!\n"
     ]
    }
   ],
   "source": [
    "# While Loops\n",
    "i = 0\n",
    "while i < 5: # condition\n",
    "    print(i) # statement\n",
    "    i += 1   # increment\n",
    "else:        # else statement\n",
    "    print(\"Run out of number!!\")\n"
   ]
  },
  {
   "cell_type": "code",
   "execution_count": 32,
   "metadata": {
    "scrolled": true
   },
   "outputs": [
    {
     "name": "stdout",
     "output_type": "stream",
     "text": [
      "pass\n",
      "\n",
      "continue\n",
      "1\n",
      "3\n",
      "4\n",
      "5\n",
      "6\n",
      "\n",
      "break\n",
      "0\n",
      "1\n",
      "2\n"
     ]
    }
   ],
   "source": [
    "# break , continue and pass\n",
    "# pass for namesake; does nothig and just passes the statement\n",
    "print(\"pass\")\n",
    "a = [1,2,3,4,5,6]\n",
    "for _ in a:\n",
    "#     print(_)\n",
    "    pass\n",
    "print(\"\")\n",
    "# continue goes to top of the loop again\n",
    "print(\"continue\")\n",
    "for _ in a:\n",
    "    if _ == 2:\n",
    "        continue\n",
    "    print(_)\n",
    "print(\"\")\n",
    "# break is used to break out of a loop\n",
    "print(\"break\")\n",
    "a = 0\n",
    "while a < 5:\n",
    "    \n",
    "    if a == 3:\n",
    "        break\n",
    "    print(a)\n",
    "    a +=1"
   ]
  },
  {
   "cell_type": "code",
   "execution_count": 34,
   "metadata": {
    "scrolled": true
   },
   "outputs": [
    {
     "name": "stdout",
     "output_type": "stream",
     "text": [
      "2\n",
      "4\n",
      "6\n",
      "8\n",
      "10\n",
      "12\n",
      "14\n",
      "16\n",
      "18\n"
     ]
    }
   ],
   "source": [
    "# for range\n",
    "\n",
    "for i in range(2,20,2):\n",
    "    print(i)"
   ]
  },
  {
   "cell_type": "code",
   "execution_count": 46,
   "metadata": {
    "scrolled": false
   },
   "outputs": [
    {
     "name": "stdout",
     "output_type": "stream",
     "text": [
      "At index 0 the letter is b.\n",
      "At index 1 the letter is i.\n",
      "At index 2 the letter is r.\n",
      "At index 3 the letter is e.\n",
      "At index 4 the letter is n.\n",
      "At index 5 the letter is d.\n",
      "At index 6 the letter is r.\n",
      "At index 7 the letter is a.\n",
      "\n",
      "index: 0,item: b\n",
      "index: 1,item: i\n",
      "index: 2,item: r\n",
      "index: 3,item: e\n",
      "index: 4,item: n\n",
      "index: 5,item: d\n",
      "index: 6,item: r\n",
      "index: 7,item: a\n"
     ]
    }
   ],
   "source": [
    "#enumerate\n",
    "\n",
    "#bad method\n",
    "index_count = 0\n",
    "for i in \"birendra\":\n",
    "    print(f'At index {index_count} the letter is {i}.')\n",
    "    index_count += 1\n",
    "print(\"\")\n",
    "\n",
    "#enumerate function\n",
    "# returns tuple\n",
    "name = \"birendra\"\n",
    "for index,letter in enumerate(name):\n",
    "    print(f\"index: {index},item: {letter}\")\n",
    "# for i,n in enumerate(name):\n",
    "#     print(i,n)\n"
   ]
  },
  {
   "cell_type": "code",
   "execution_count": 105,
   "metadata": {
    "scrolled": true
   },
   "outputs": [
    {
     "name": "stdout",
     "output_type": "stream",
     "text": [
      "[(1, 'a', 101), (2, 'b', 102), (3, 'c', 103), (4, 'd', 104), (5, 'e', 105), (6, 'f', 106), (7, 'g', 107)]\n",
      "(1, 'a', 101)\n",
      "(2, 'b', 102)\n",
      "(3, 'c', 103)\n",
      "(4, 'd', 104)\n",
      "(5, 'e', 105)\n",
      "(6, 'f', 106)\n",
      "(7, 'g', 107)\n",
      "False\n"
     ]
    }
   ],
   "source": [
    "#zip function\n",
    "#zips 2 lists together\n",
    "\n",
    "list1 =[1,2,3,4,5,6,7]\n",
    "list2 =['a','b','c','d','e','f','g']\n",
    "list3 =[101,102,103,104,105,106,107]\n",
    "#print on its own\n",
    "a = list(zip(list1,list2,list3))\n",
    "print(a)\n",
    "#print in a loop\n",
    "for i in zip(list1,list2,list3):\n",
    "    print(i)\n",
    "    \n",
    "if 1 in a:\n",
    "    print(True)\n",
    "else:\n",
    "    print(False)"
   ]
  },
  {
   "cell_type": "code",
   "execution_count": 7,
   "metadata": {
    "scrolled": true
   },
   "outputs": [
    {
     "name": "stdout",
     "output_type": "stream",
     "text": [
      "True\n",
      "True\n",
      "a False dict_values([1, 2, 3])\n"
     ]
    }
   ],
   "source": [
    "# check if number is in list\n",
    "\n",
    "a = ['RAM','Shyam','HARI']\n",
    "\n",
    "# lower all words in a list\n",
    "# b = [i.lower() for i in a] \n",
    "# print(a,b)\n",
    "# c = input(\"enter the name: \")\n",
    "# d = c.lower()\n",
    "# if d in b:\n",
    "#     print(True)\n",
    "# else:\n",
    "#     print(False)\n",
    "    \n",
    "d = {'a':1,'b':2,'c':3}\n",
    "\n",
    "print('a' in d) #keys\n",
    "\n",
    "print(1 in d.values()) # values\n"
   ]
  },
  {
   "cell_type": "code",
   "execution_count": 22,
   "metadata": {
    "scrolled": true
   },
   "outputs": [
    {
     "name": "stdout",
     "output_type": "stream",
     "text": [
      "['b', 'i', 'r', 'e', 'n', 'd', 'r', 'a']\n",
      "[5, 10, 15, 20, 25, 30, 35, 40, 45] [41.0, 50.0, 59.0, 68.0, 77.0, 86.0, 95.0, 104.0, 113.0] [-268.15, -263.15, -258.15, -253.14999999999998, -248.14999999999998, -243.14999999999998, -238.14999999999998, -233.14999999999998, -228.14999999999998]\n"
     ]
    }
   ],
   "source": [
    "# list comprehension\n",
    "name = 'birendra'\n",
    "# bad method\n",
    "# alist = []\n",
    "# for i in name:\n",
    "#     alist.append(i)\n",
    "# print(alist)\n",
    "\n",
    "alist = [_ for _ in name]\n",
    "print(alist)\n",
    "\n",
    "\n",
    "\n",
    "numlist = [_**2 for _ in range(0,1000) if _%2 == 0]\n",
    "print(numlist)\n"
   ]
  },
  {
   "cell_type": "code",
   "execution_count": 46,
   "metadata": {
    "scrolled": true
   },
   "outputs": [
    {
     "name": "stdout",
     "output_type": "stream",
     "text": [
      "Celcius = 5°C,\n",
      "Farenhiet = 41.0°F,\n",
      "Kelvin = -268.15 K\n",
      "\n",
      "Celcius = 10°C,\n",
      "Farenhiet = 50.0°F,\n",
      "Kelvin = -263.15 K\n",
      "\n",
      "Celcius = 15°C,\n",
      "Farenhiet = 59.0°F,\n",
      "Kelvin = -258.15 K\n",
      "\n",
      "Celcius = 20°C,\n",
      "Farenhiet = 68.0°F,\n",
      "Kelvin = -253.14999999999998 K\n",
      "\n",
      "Celcius = 25°C,\n",
      "Farenhiet = 77.0°F,\n",
      "Kelvin = -248.14999999999998 K\n",
      "\n",
      "Celcius = 30°C,\n",
      "Farenhiet = 86.0°F,\n",
      "Kelvin = -243.14999999999998 K\n",
      "\n",
      "Celcius = 35°C,\n",
      "Farenhiet = 95.0°F,\n",
      "Kelvin = -238.14999999999998 K\n",
      "\n",
      "Celcius = 40°C,\n",
      "Farenhiet = 104.0°F,\n",
      "Kelvin = -233.14999999999998 K\n",
      "\n",
      "Celcius = 45°C,\n",
      "Farenhiet = 113.0°F,\n",
      "Kelvin = -228.14999999999998 K\n",
      "\n"
     ]
    }
   ],
   "source": [
    "# temperature conversion\n",
    "\n",
    "ctem = [5,10,15,20,25,30,35,40,45]\n",
    "ftem = [((9/5)*temp+32) for temp in ctem]\n",
    "ktem = [(temp - 273.15) for temp in ctem]\n",
    "for i,j,k in zip(ctem,ftem,ktem):\n",
    "    print(f\"Celcius = {i}\\N{DEGREE SIGN}C,\\nFarenhiet = {j}\\N{DEGREE SIGN}F,\\nKelvin = {k} K\\n\")\n"
   ]
  },
  {
   "cell_type": "code",
   "execution_count": 1,
   "metadata": {
    "scrolled": true
   },
   "outputs": [
    {
     "name": "stdout",
     "output_type": "stream",
     "text": [
      "Bono\n",
      "be\n",
      "big\n",
      "boxer\n"
     ]
    }
   ],
   "source": [
    "st = \"Hello my name is Bono and i want to be a big boxer\"\n",
    "nst = st.split()\n",
    "for i in nst:\n",
    "    if i[0].lower() == 'b':\n",
    "        print(i)\n",
    "    "
   ]
  },
  {
   "cell_type": "code",
   "execution_count": 60,
   "metadata": {
    "scrolled": true
   },
   "outputs": [
    {
     "name": "stdout",
     "output_type": "stream",
     "text": [
      "1\n",
      "2\n",
      "fizz\n",
      "4\n",
      "buzz\n",
      "fizz\n",
      "7\n",
      "8\n",
      "fizz\n",
      "buzz\n",
      "11\n",
      "fizz\n",
      "13\n",
      "14\n",
      "fizzbuzz\n",
      "16\n",
      "17\n",
      "fizz\n",
      "19\n",
      "buzz\n",
      "fizz\n",
      "22\n",
      "23\n",
      "fizz\n",
      "buzz\n",
      "26\n",
      "fizz\n",
      "28\n",
      "29\n",
      "fizzbuzz\n",
      "31\n",
      "32\n",
      "fizz\n",
      "34\n",
      "buzz\n",
      "fizz\n",
      "37\n",
      "38\n",
      "fizz\n",
      "buzz\n",
      "41\n",
      "fizz\n",
      "43\n",
      "44\n",
      "fizzbuzz\n",
      "46\n",
      "47\n",
      "fizz\n",
      "49\n",
      "buzz\n"
     ]
    }
   ],
   "source": [
    "for i in range(1,51):\n",
    "    out = ''\n",
    "    if i%3 == 0: out += 'fizz'\n",
    "    if i%5 == 0: out += 'buzz'\n",
    "    if out == '': print(i)\n",
    "    else:print(out)"
   ]
  },
  {
   "cell_type": "code",
   "execution_count": 3,
   "metadata": {},
   "outputs": [
    {
     "name": "stdout",
     "output_type": "stream",
     "text": [
      "10\n"
     ]
    }
   ],
   "source": [
    "#Py Functions\n",
    "def name_of_function():\n",
    "    print(5+5)\n",
    "name_of_function()"
   ]
  }
 ],
 "metadata": {
  "kernelspec": {
   "display_name": "Python 3",
   "language": "python",
   "name": "python3"
  },
  "language_info": {
   "codemirror_mode": {
    "name": "ipython",
    "version": 3
   },
   "file_extension": ".py",
   "mimetype": "text/x-python",
   "name": "python",
   "nbconvert_exporter": "python",
   "pygments_lexer": "ipython3",
   "version": "3.7.4"
  }
 },
 "nbformat": 4,
 "nbformat_minor": 2
}
