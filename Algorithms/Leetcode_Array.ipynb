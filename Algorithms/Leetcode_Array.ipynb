{
 "cells": [
  {
   "cell_type": "code",
   "execution_count": 9,
   "metadata": {
    "scrolled": true
   },
   "outputs": [
    {
     "name": "stdout",
     "output_type": "stream",
     "text": [
      "2\n"
     ]
    }
   ],
   "source": [
    "# Max Consecutive Ones\n",
    "\n",
    "def maxcon(arr):\n",
    "    count, count1  = 0,0\n",
    "    for i in range(len(arr)):\n",
    "        if(arr[i] == 0):\n",
    "            count1 = 0\n",
    "        else:\n",
    "            count1 += 1\n",
    "        count = max(count1,count)\n",
    "            \n",
    "    print( count)\n",
    "\n",
    "arr = [1,0,1,1,0,1]\n",
    "maxcon(arr)"
   ]
  },
  {
   "cell_type": "code",
   "execution_count": 24,
   "metadata": {
    "scrolled": true
   },
   "outputs": [
    {
     "name": "stdout",
     "output_type": "stream",
     "text": [
      "2\n"
     ]
    }
   ],
   "source": [
    "# Find Numbers with Even Number of Digits\n",
    "\n",
    "def findeven(arr):\n",
    "    count = 0\n",
    "    for i in arr:\n",
    "        if (len(str(i)) % 2 == 0):\n",
    "            count += 1\n",
    "    print(count)\n",
    "\n",
    "\n",
    "arr = [12,345,2,6,7896]\n",
    "\n",
    "findeven(arr)"
   ]
  },
  {
   "cell_type": "code",
   "execution_count": 38,
   "metadata": {
    "scrolled": true
   },
   "outputs": [
    {
     "name": "stdout",
     "output_type": "stream",
     "text": [
      "[0, 1, 9, 16, 100]\n",
      "[0, 1, 9, 16, 100]\n"
     ]
    }
   ],
   "source": [
    "# Squares of a Sorted Array\n",
    "\n",
    "def squarearr(arr):\n",
    "    arrsqr = [x**2 for x in arr]\n",
    "    return sorted(arrsqr)\n",
    "\n",
    "def squared(arr):\n",
    "    for i in range(len(arr)):\n",
    "        arr[i] *= arr[i]\n",
    "    return sorted(arr)\n",
    "\n",
    "arr = [-4,-1,0,3,10]\n",
    "print(squarearr(arr))\n",
    "print(squared(arr))\n"
   ]
  },
  {
   "cell_type": "code",
   "execution_count": 101,
   "metadata": {
    "scrolled": true
   },
   "outputs": [
    {
     "name": "stdout",
     "output_type": "stream",
     "text": [
      "[1, 0, 0, 2, 3, 0, 0, 4]\n"
     ]
    }
   ],
   "source": [
    "# Duplicate Zeroes\n",
    "\n",
    "def duplicatezero(arr):\n",
    "    length=len(arr)\n",
    "    i=0\n",
    "    while(True):\n",
    "        if(i>length-1):\n",
    "            break\n",
    "        if(arr[i]==0):\n",
    "            last=length-1\n",
    "            while(last!=i):\n",
    "                arr[last]=arr[last-1]\n",
    "                last-=1\n",
    "            arr[last]=0\n",
    "            i+=2\n",
    "        else:\n",
    "            i+=1\n",
    "            \n",
    "    print(arr)\n",
    "\n",
    "arr = [1,0,2,3,0,4,5,0]\n",
    "arr1 = [1,2,3]\n",
    "\n",
    "duplicatezero(arr)\n"
   ]
  },
  {
   "cell_type": "code",
   "execution_count": 108,
   "metadata": {
    "scrolled": true
   },
   "outputs": [
    {
     "name": "stdout",
     "output_type": "stream",
     "text": [
      "[1, 2, 2, 3, 5, 6]\n"
     ]
    }
   ],
   "source": [
    "# Merge Sorted Array\n",
    "def sortedmerge(nums1,nums2,m,n):\n",
    "    for i in range(len(nums2)):\n",
    "        nums1[m + i] = nums2[i]\n",
    "#     for i in range(len(nums2)):\n",
    "#         nums1.pop() \n",
    "#     nums1.extend(nums2)\n",
    "    print(sorted(nums1))\n",
    "    \n",
    "\n",
    "\n",
    "\n",
    "nums1 = [1,2,3,0,0,0]\n",
    "nums2 = [2,5,6]\n",
    "m , n = 3,3\n",
    "\n",
    "sortedmerge(nums1,nums2,m,n)"
   ]
  },
  {
   "cell_type": "code",
   "execution_count": 115,
   "metadata": {},
   "outputs": [
    {
     "name": "stdout",
     "output_type": "stream",
     "text": [
      "[0, 1, 3, 0, 4]\n"
     ]
    }
   ],
   "source": [
    "# Remove element\n",
    "def removeelement(nums,val):\n",
    "#     nums.remove(val)\n",
    "    a = nums.count(val)\n",
    "    for i in range(a):\n",
    "        nums.remove(val)\n",
    "    print(nums)\n",
    "\n",
    "\n",
    "nums = [0,1,2,2,3,0,4,2]\n",
    "val = 2\n",
    "removeelement(nums,val)"
   ]
  }
 ],
 "metadata": {
  "kernelspec": {
   "display_name": "Python 3",
   "language": "python",
   "name": "python3"
  },
  "language_info": {
   "codemirror_mode": {
    "name": "ipython",
    "version": 3
   },
   "file_extension": ".py",
   "mimetype": "text/x-python",
   "name": "python",
   "nbconvert_exporter": "python",
   "pygments_lexer": "ipython3",
   "version": "3.7.4"
  }
 },
 "nbformat": 4,
 "nbformat_minor": 2
}
