{
 "cells": [
  {
   "cell_type": "code",
   "execution_count": 61,
   "metadata": {
    "scrolled": true
   },
   "outputs": [
    {
     "name": "stdout",
     "output_type": "stream",
     "text": [
      "[6, 5, 10]\n",
      "[1, 5, 9, 10]\n",
      "[9, 5, 1]\n"
     ]
    }
   ],
   "source": [
    "# Lists Python challange\n",
    "\n",
    "\n",
    "# insert 0 5\n",
    "# insert 1 10\n",
    "# insert 0 6\n",
    "# print\n",
    "# remove 6\n",
    "# append 9\n",
    "# append 1\n",
    "# sort\n",
    "# print\n",
    "# pop\n",
    "# reverse\n",
    "# print\n",
    "# ,'pop','reverse','print'\n",
    "\n",
    "work_on = ['insert 0 5','insert 1 10','insert 0 6','print','remove 6', 'append 9', 'append 1','sort','print','pop','reverse','print']\n",
    "\n",
    "arr = []\n",
    "\n",
    "for inst in work_on:\n",
    "    work = inst.split(' ')\n",
    "    \n",
    "    if work[0] == 'print':\n",
    "        print(arr)\n",
    "\n",
    "    if work[0] == 'insert':\n",
    "        arr.insert(int(work[1]),int(work[2]))\n",
    "    \n",
    "    \n",
    "        \n",
    "    if work[0] == 'remove':\n",
    "        arr.remove(int(work[1]))\n",
    "        \n",
    "    if work[0] == 'append':\n",
    "        arr.append(int(work[1]))\n",
    "    \n",
    "    if work[0] == 'sort':\n",
    "        arr.sort()\n",
    "        \n",
    "    if work[0] == 'pop':\n",
    "        arr.pop()\n",
    "        \n",
    "    if work[0] == 'reverse':\n",
    "        arr.reverse()\n",
    "        \n",
    " \n",
    "\n",
    "\n",
    "\n"
   ]
  },
  {
   "cell_type": "code",
   "execution_count": 47,
   "metadata": {},
   "outputs": [
    {
     "name": "stdout",
     "output_type": "stream",
     "text": [
      "[32, 65, 12, 87, 12]\n",
      "[12, 12, 32, 65, 87]\n"
     ]
    }
   ],
   "source": [
    "brr = [32,65,12,87,12]\n",
    "print(brr)\n",
    "\n",
    "print(brr)"
   ]
  },
  {
   "cell_type": "code",
   "execution_count": 54,
   "metadata": {
    "scrolled": true
   },
   "outputs": [
    {
     "name": "stdout",
     "output_type": "stream",
     "text": [
      "[4, 4, 12, 67, 98]\n"
     ]
    }
   ],
   "source": [
    "work_d = ['insert 1 4', 'sort' , 'print']\n",
    "\n",
    "arr = [4,67,12,98]\n",
    "\n",
    "for inst in work_d:\n",
    "    work = inst.split(' ')\n",
    "    \n",
    "    if work[0] == 'insert':\n",
    "        arr.insert(int(work[1]),int(work[2]))\n",
    "    \n",
    "    if work[0] == 'print':\n",
    "        print(arr)\n",
    "\n",
    "    \n",
    "    if work[0] == 'sort':\n",
    "        arr.sort()\n",
    "\n",
    "    \n",
    "    \n",
    "    "
   ]
  },
  {
   "cell_type": "code",
   "execution_count": null,
   "metadata": {},
   "outputs": [],
   "source": [
    "# arr = list(map(int, input().split()))"
   ]
  },
  {
   "cell_type": "code",
   "execution_count": 4,
   "metadata": {
    "scrolled": true
   },
   "outputs": [
    {
     "name": "stdout",
     "output_type": "stream",
     "text": [
      "6\n",
      "None\n"
     ]
    }
   ],
   "source": [
    "# Test\n",
    "\n",
    "# import datetime \n",
    "# import calendar \n",
    "  \n",
    "# def findDay(date): \n",
    "#     born = datetime.datetime.strptime(date, '%d %m %Y').weekday() \n",
    "#     print(born)\n",
    "# #     return (calendar.day_name[born]) \n",
    "  \n",
    "# # Driver program \n",
    "# date = '03 02 2019'\n",
    "# print(findDay(date))\n"
   ]
  },
  {
   "cell_type": "code",
   "execution_count": 6,
   "metadata": {},
   "outputs": [
    {
     "name": "stdout",
     "output_type": "stream",
     "text": [
      "WEDNESDAY\n"
     ]
    }
   ],
   "source": [
    "\n",
    "import calendar as cd\n",
    "\n",
    "# arr = list(map(int, input().split()))\n",
    "\n",
    "arr = [8, 5, 2015]\n",
    "month = arr[0]\n",
    "day = arr[1]\n",
    "year = arr[2]\n",
    "day_number = cd.weekday(year, month, day)\n",
    "days_list =[\"Monday\", \"Tuesday\", \"Wednesday\", \"Thursday\", \"Friday\", \"Saturday\", \"Sunday\"] \n",
    "\n",
    "print(days_list[day_number].upper())"
   ]
  }
 ],
 "metadata": {
  "kernelspec": {
   "display_name": "Python 3",
   "language": "python",
   "name": "python3"
  },
  "language_info": {
   "codemirror_mode": {
    "name": "ipython",
    "version": 3
   },
   "file_extension": ".py",
   "mimetype": "text/x-python",
   "name": "python",
   "nbconvert_exporter": "python",
   "pygments_lexer": "ipython3",
   "version": "3.7.4"
  }
 },
 "nbformat": 4,
 "nbformat_minor": 2
}
