{
 "cells": [
  {
   "cell_type": "code",
   "execution_count": null,
   "metadata": {},
   "outputs": [],
   "source": [
    "# nested list\n",
    "\n",
    "\n",
    "'''\n",
    "if __name__ == '__main__':\n",
    "    score_list = []\n",
    "    name_score_list = []\n",
    "    final_list = []\n",
    "\n",
    "    #create lists\n",
    "    for _ in range(int(input())):\n",
    "        name = input()\n",
    "        score = float(input())\n",
    "        score_list.append(score)\n",
    "        name_score_list+=[[name,score]]\n",
    "    \n",
    "    #find second lowest number\n",
    "    lowest = min(score_list)\n",
    "    s_lowest = score_list[0]\n",
    "    for i in score_list:\n",
    "        if i > lowest and i < s_lowest:\n",
    "            s_lowest == i\n",
    "    \n",
    "    # Find the names with second lowest number\n",
    "    for i in range(len(name_score_list)):\n",
    "        if name_score_list[i][1] == s_lowest:\n",
    "            final_list.append(name_score_list[i][0])\n",
    "    final_list.sort()\n",
    "    for i in final_list:\n",
    "        print(i)\n",
    "'''\n",
    "        \n",
    "marksheet=[['Harry',37.21],['Berry',37.21],['Tina',37.2],['Akriti',41],['Harsh',39]]\n",
    "scorelist=[37.21, 37.21, 37.2, 41, 39]\n",
    "\n",
    "#         for _ in range(int(input())):\n",
    "#                 name = input()\n",
    "#                 score = float(input())\n",
    "#                 marksheet+=[[name,score]]\n",
    "#                 scorelist+=[score]\n",
    "b=sorted(list(set(scorelist)))[1] \n",
    "\n",
    "\n",
    "for a,c in sorted(marksheet):\n",
    "    print(a,c)\n",
    "    if c==b:\n",
    "        print(a)\n"
   ]
  },
  {
   "cell_type": "code",
   "execution_count": null,
   "metadata": {
    "scrolled": true
   },
   "outputs": [],
   "source": [
    "marksheet=[['Harry',37.21],['Berry',37.21],['Tina',37.2],['Akriti',41],['Harsh',39]]\n",
    "scorelist=[37.21, 37.21, 37.2, 41, 39]\n",
    "\n",
    "#         for _ in range(int(input())):\n",
    "#                 name = input()\n",
    "#                 score = float(input())\n",
    "#                 marksheet+=[[name,score]]\n",
    "#                 scorelist+=[score]\n",
    "b=sorted(list(set(scorelist)))[1] \n",
    "\n",
    "\n",
    "for a,c in sorted(marksheet):\n",
    "    print(a,c)\n",
    "    if c==b:\n",
    "        print(a)"
   ]
  },
  {
   "cell_type": "code",
   "execution_count": null,
   "metadata": {},
   "outputs": [],
   "source": [
    "# Finding the percentage\n",
    "\n",
    "if __name__ == '__main__':\n",
    "    n = int(input())\n",
    "    student_marks = {}\n",
    "    for _ in range(n):\n",
    "        name, *line = input().split()\n",
    "        scores = list(map(float, line))\n",
    "        student_marks[name] = scores\n",
    "    query_name = input()\n",
    "\n",
    "#     Check if the name exsts in the dictionary\n",
    "    if query_name in student_marks:\n",
    "        \n",
    "#         Get a list of marks respective to the query_name\n",
    "        x = student_marks.get(query_name)\n",
    "        \n",
    "        avg = sum(x)/len(x)\n",
    "        \n",
    "        print(\"%.2f\"%avg)\n",
    "        \n",
    "\n",
    "print( format(sum(student_marks[query_name])/len(student_marks[query_name]), \".2f\") )\n",
    "\n",
    "\n"
   ]
  },
  {
   "cell_type": "code",
   "execution_count": null,
   "metadata": {},
   "outputs": [],
   "source": [
    "# ginortS1324\n",
    "\n",
    "import re\n",
    "s = input()\n",
    "\n",
    "\n",
    "l = sorted(re.findall('[a-z]', s)) + sorted(re.findall('[A-Z]', s)) + sorted(re.findall('[13579]', s)) + sorted(re.findall('[24680]', s))\n",
    "\n",
    "\n",
    "print(''.join(l))"
   ]
  },
  {
   "cell_type": "code",
   "execution_count": 22,
   "metadata": {},
   "outputs": [
    {
     "name": "stdout",
     "output_type": "stream",
     "text": [
      "[4, 8, 12, 23, 23, 34, 34, 45, 56, 61, 74, 3464, 33324, 456456, 4564365345, 13123235345]\n"
     ]
    }
   ],
   "source": [
    "n = [23,4,45,61,74,8,56,3464,34,456456,34,4564365345,33324,13123235345,23,12]\n",
    "b = []\n",
    "a ,b = 0,0\n",
    "for i in range(len(n)):\n",
    "    for j in range(i):\n",
    "        if n[i] < n[j]:\n",
    "#             print(n[i],n[j])\n",
    "            n[i], n[j] = n[j],n[i]\n",
    "            \n",
    "print(n)"
   ]
  },
  {
   "cell_type": "code",
   "execution_count": 35,
   "metadata": {
    "scrolled": false
   },
   "outputs": [
    {
     "name": "stdout",
     "output_type": "stream",
     "text": [
      "Success\n"
     ]
    }
   ],
   "source": [
    "# Advanced array Game\n",
    "\n",
    "\n",
    "def advanced_array(A):\n",
    "    last_index = len(A) - 1\n",
    "    fur_rea = 0\n",
    "    i = 0\n",
    "#     The loop checks through all the possibilities within the index value\n",
    "#     checks all the furthest we an reach form eg: 3\n",
    "    while i <= fur_rea and fur_rea < last_index:\n",
    "        fur_rea = max(fur_rea , A[i] + i)\n",
    "        i += 1\n",
    "    return fur_rea >= last_index\n",
    "    \n",
    "A = [3,3,1,0,2,0,1]\n",
    "\n",
    "if advanced_array(A):\n",
    "    print('Success')\n",
    "else:\n",
    "    print('Faliure')\n",
    "    \n",
    "    \n",
    "\n",
    "\n"
   ]
  },
  {
   "cell_type": "code",
   "execution_count": 37,
   "metadata": {
    "scrolled": true
   },
   "outputs": [
    {
     "name": "stdout",
     "output_type": "stream",
     "text": [
      "F_R = 3, A = 3 3 , 0 \n",
      "F_R = 4, A = 3 4 , 1 \n",
      "F_R = 4, A = 1 3 , 2 \n",
      "F_R = 4, A = 0 3 , 3 \n",
      "F_R = 6, A = 2 6 , 4 \n"
     ]
    }
   ],
   "source": [
    "\n",
    "A = [3,3,1,0,2,0,1]\n",
    "\n",
    "last_index = len(A)-1\n",
    "furthest_reached = 0\n",
    "\n",
    "i = 0\n",
    "\n",
    "while i <=furthest_reached and furthest_reached < last_index:\n",
    "    furthest_reached = max(furthest_reached, A[i] + i)\n",
    "    print(f'F_R = {furthest_reached}, A = {A[i]} {A[i] + i } , {i} ')\n",
    "    i +=1\n",
    "\n"
   ]
  },
  {
   "cell_type": "code",
   "execution_count": 41,
   "metadata": {
    "scrolled": true
   },
   "outputs": [
    {
     "name": "stdout",
     "output_type": "stream",
     "text": [
      "102 exists\n"
     ]
    }
   ],
   "source": [
    "# Binary search\n",
    "\n",
    "def binarySearch(arr,t,low,high):\n",
    "    if low > high:\n",
    "        return False\n",
    "    else:\n",
    "        mid = (low + high) // 2\n",
    "        if arr[mid] == t:\n",
    "            return True\n",
    "        if t > arr[mid]:\n",
    "            return binarySearch(arr,t, mid+1,high)\n",
    "        else:\n",
    "            return binarySearch(arr,t, low,mid -1)\n",
    "\n",
    "\n",
    "arr = [2,4,7,9,12,34,56,78,90,94,102,402,481]\n",
    "t = 102\n",
    "# high = len(arr) -1\n",
    "# low = 0\n",
    "if binarySearch(arr,t,0,len(arr)-1):\n",
    "    print(f\"{t} exists\")\n",
    "else:\n",
    "    print(f\"{t} doesnot exist\")\n",
    "\n"
   ]
  },
  {
   "cell_type": "code",
   "execution_count": 78,
   "metadata": {
    "scrolled": true
   },
   "outputs": [
    {
     "name": "stdout",
     "output_type": "stream",
     "text": [
      "9\n"
     ]
    }
   ],
   "source": [
    "# Electronics Shop\n",
    "\n",
    "def eshop(num,k,m):\n",
    "    value = -1\n",
    "#     count = []\n",
    "    for i in k:\n",
    "        for j in m:\n",
    "            if i+j <= num:\n",
    "                value = max(value,i+j)\n",
    "#                 count.append(i+j)\n",
    "#     if len(count) ==0:\n",
    "#         return -1\n",
    "#     else:\n",
    "#         return max(count)\n",
    "    return value\n",
    " \n",
    "num = 10\n",
    "k =[3,1]\n",
    "m = [5,2,8]\n",
    "\n",
    "# k = [11]\n",
    "# m = [32,54]\n",
    "print(eshop(num,k,m))"
   ]
  },
  {
   "cell_type": "code",
   "execution_count": 99,
   "metadata": {},
   "outputs": [
    {
     "name": "stdout",
     "output_type": "stream",
     "text": [
      "Cat B\n",
      "Cat A\n"
     ]
    }
   ],
   "source": [
    "# Cat and mouse\n",
    "\n",
    "def catMouse(x,y,z):\n",
    "#     print(x,y,z)\n",
    "    if x == y:\n",
    "        print(\"Mouse\")\n",
    "    elif x == z:\n",
    "        print(\"Cat A\")\n",
    "    elif y == z:\n",
    "        print(\"Cat B\")\n",
    "    \n",
    "    if x < z and y < z:\n",
    "        return catMouse(x+1,y+1,z)\n",
    "    if x >z and y > z:\n",
    "        return catMouse(x-1,y-1,z)\n",
    "    if x > z and y < z:\n",
    "        return catMouse(x-1,y+1,z)\n",
    "    if x < z and y > z:\n",
    "        return catMouse(x+1,y-1,z)\n",
    "        \n",
    "\n",
    "        \n",
    "        \n",
    "def catandMouse(x,y,z):\n",
    "    a = abs(x-z)\n",
    "    b = abs(y-z)\n",
    "    \n",
    "    if a == b:\n",
    "        print(\"Mouse\")\n",
    "    elif a > b:\n",
    "        print(\"Cat A\")\n",
    "    elif a < b:\n",
    "        print(\"Cat B\")\n",
    "\n",
    "\n",
    "\n",
    "x = 2\n",
    "a = [1, 2, 3]\n",
    "a1 = [291, 152, 200]\n",
    "\n",
    "catMouse(a1[0],a1[1],a1[2])\n",
    "catandMouse(a[0],a[1],a[2])"
   ]
  }
 ],
 "metadata": {
  "kernelspec": {
   "display_name": "Python 3",
   "language": "python",
   "name": "python3"
  },
  "language_info": {
   "codemirror_mode": {
    "name": "ipython",
    "version": 3
   },
   "file_extension": ".py",
   "mimetype": "text/x-python",
   "name": "python",
   "nbconvert_exporter": "python",
   "pygments_lexer": "ipython3",
   "version": "3.7.4"
  }
 },
 "nbformat": 4,
 "nbformat_minor": 2
}
